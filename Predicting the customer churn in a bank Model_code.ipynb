{
 "cells": [
  {
   "cell_type": "markdown",
   "metadata": {},
   "source": [
    "### Problem Statement "
   ]
  },
  {
   "cell_type": "markdown",
   "metadata": {},
   "source": [
    "For any customer centric organisation, customer churn/retention analysis is going to be extremely valuable. It is a market reality that the banks and other financial institutions are battling to attract each other's customers while retaining their own. Thus, Customer churn reduction is the central concern of most banking organisations as switching costs to the customer\n",
    "are low and acquisition cost to the organisation is high. Churn reduces profitability as it\n",
    "means potential loss of future revenue and also losing the invested costs of acquisition. On\n",
    "the other hand, long term customers contribute to profitability through mere continued association as they are less costly to serve and through additional services and referrals. It is important to have data that underlies construction of purchase decision and also the underlying\n",
    "loyalty hooks. So a good deal of marketing budget is allocated to engage customer on an\n",
    "ongoing basis and prevent churn by designing new plans and offering freebees, discounts\n",
    "etc. Thus, it is important to predict the customers who are likely to churn and develop appropriate modalities for retention.\n",
    "An international bank has a business problem with customer retention and observed high\n",
    "churn rates. The bank observed that alarming number of existing customers exit while it is\n",
    "getting increasingly difficult to acquire new customers. So they want to understand the hidden patterns in their customer behaviour by use of customer data which has early warning\n",
    "signs.This helps understand the drivers behind considering an alternative. The variables\n",
    "could be demographic, perception or behavioural.\n",
    "You are expected to create an analytical and modelling framework to predict the customer\n",
    "churn in a bank based on the quantitative and qualitative features provided in the datasets. "
   ]
  },
  {
   "cell_type": "markdown",
   "metadata": {},
   "source": [
    "## Importing all the required Libraires"
   ]
  },
  {
   "cell_type": "code",
   "execution_count": 1,
   "metadata": {},
   "outputs": [],
   "source": [
    "import os\n",
    "import pandas as pd\n",
    "import numpy as np\n",
    "import sklearn\n",
    "\n",
    "from sklearn import preprocessing\n",
    "from sklearn.impute import SimpleImputer\n",
    "from sklearn.compose import ColumnTransformer\n",
    "\n",
    "from sklearn.preprocessing import StandardScaler\n",
    "from sklearn.preprocessing import OneHotEncoder\n",
    "from sklearn.model_selection import train_test_split\n",
    "from sklearn.pipeline import Pipeline\n",
    "from sklearn.model_selection import GridSearchCV, RandomizedSearchCV\n",
    "from sklearn.model_selection import cross_val_score\n",
    "from sklearn.ensemble import RandomForestClassifier\n",
    "from sklearn.neighbors import KNeighborsClassifier\n",
    "\n",
    "from sklearn.svm import SVC\n",
    "from sklearn.linear_model import LogisticRegression\n",
    "from sklearn.metrics import confusion_matrix\n",
    "\n",
    "import matplotlib.pyplot as plt\n",
    "import seaborn as sns\n",
    "from imblearn.over_sampling import SMOTE\n",
    "from sklearn.metrics import accuracy_score, recall_score, precision_score\n",
    "\n",
    "import warnings\n",
    "warnings.filterwarnings('ignore')\n",
    "\n",
    "import plotly\n",
    "import plotly.offline as pyoff\n",
    "import plotly.figure_factory as ff\n",
    "from plotly.offline import init_notebook_mode, iplot, plot\n",
    "import plotly.graph_objs as go\n",
    "\n",
    "from numpy import asarray\n",
    "from numpy import savetxt\n",
    "from numpy import loadtxt"
   ]
  },
  {
   "cell_type": "markdown",
   "metadata": {},
   "source": [
    "### Train Score Function "
   ]
  },
  {
   "cell_type": "code",
   "execution_count": 2,
   "metadata": {},
   "outputs": [],
   "source": [
    "def Train_Scores(confusion_matrix_test):\n",
    "\n",
    "    Accuracy_train=(confusion_matrix_train[0,0]+confusion_matrix_train[1,1])/(np.sum(confusion_matrix_train))\n",
    "\n",
    "    Precision_Train= confusion_matrix_train[1,1]/(confusion_matrix_train[1,1]+confusion_matrix_train[0,1])\n",
    "    Recall_Train= confusion_matrix_train[1,1]/(confusion_matrix_train[1,0]+confusion_matrix_train[1,1])\n",
    "    F1_Train= (2*Precision_Train*Recall_Train)/(Precision_Train/Recall_Train)\n",
    "    print(\"Train Scores\")\n",
    "    print(\"Train Precision: \",Precision_Train)\n",
    "    print(\"Train Recall: \",Recall_Train)\n",
    "    print(\"Train Accuracy: \",Accuracy_train)\n",
    "    print(\"F1 Score Train: \",F1_Train)"
   ]
  },
  {
   "cell_type": "markdown",
   "metadata": {},
   "source": [
    "### Test Score Function"
   ]
  },
  {
   "cell_type": "code",
   "execution_count": 3,
   "metadata": {},
   "outputs": [],
   "source": [
    "def Test_Scores(confusion_matrix_test):\n",
    "\n",
    "    Accuracy_test=(confusion_matrix_test[0,0]+confusion_matrix_test[1,1])/(np.sum(confusion_matrix_test))\n",
    "\n",
    "    Precision_Test= confusion_matrix_test[1,1]/(confusion_matrix_test[1,1]+confusion_matrix_test[0,1])\n",
    "    Recall_Test= confusion_matrix_test[1,1]/(confusion_matrix_test[1,0]+confusion_matrix_test[1,1])\n",
    "    F1_Test= (2*Precision_Test*Recall_Test)/(Precision_Test/Recall_Test)\n",
    "    print(\"Test Scores\")\n",
    "    print(\"Test Precision: \",Precision_Test)\n",
    "    print(\"Test Recall: \",Recall_Test)\n",
    "    print(\"Test Accuracy: \",Accuracy_test)\n",
    "    print(\"F1 Score Test: \",F1_Test)"
   ]
  },
  {
   "cell_type": "markdown",
   "metadata": {},
   "source": [
    "### Reading the data "
   ]
  },
  {
   "cell_type": "code",
   "execution_count": 4,
   "metadata": {},
   "outputs": [],
   "source": [
    "bankdata = pd.read_csv(\"train_data-1578037482430.csv\", sep=',', header=0,\n",
    "                        na_values='unknown')"
   ]
  },
  {
   "cell_type": "markdown",
   "metadata": {},
   "source": [
    "### Shape/Dimension of the data"
   ]
  },
  {
   "cell_type": "code",
   "execution_count": 5,
   "metadata": {},
   "outputs": [
    {
     "name": "stdout",
     "output_type": "stream",
     "text": [
      "(7360, 21)\n"
     ]
    }
   ],
   "source": [
    "print(bankdata.shape) "
   ]
  },
  {
   "cell_type": "code",
   "execution_count": 6,
   "metadata": {},
   "outputs": [
    {
     "data": {
      "text/html": [
       "<div>\n",
       "<style scoped>\n",
       "    .dataframe tbody tr th:only-of-type {\n",
       "        vertical-align: middle;\n",
       "    }\n",
       "\n",
       "    .dataframe tbody tr th {\n",
       "        vertical-align: top;\n",
       "    }\n",
       "\n",
       "    .dataframe thead th {\n",
       "        text-align: right;\n",
       "    }\n",
       "</style>\n",
       "<table border=\"1\" class=\"dataframe\">\n",
       "  <thead>\n",
       "    <tr style=\"text-align: right;\">\n",
       "      <th></th>\n",
       "      <th>CustomerID</th>\n",
       "      <th>CustomerName</th>\n",
       "      <th>yearofBirth</th>\n",
       "      <th>monthofBirth</th>\n",
       "      <th>dayofBirth</th>\n",
       "      <th>yearofEntry</th>\n",
       "      <th>monthofEntry</th>\n",
       "      <th>dayofEntry</th>\n",
       "      <th>Gender</th>\n",
       "      <th>Location</th>\n",
       "      <th>...</th>\n",
       "      <th>MaritalStatus</th>\n",
       "      <th>Occupation</th>\n",
       "      <th>Ownhouse</th>\n",
       "      <th>CreditScore</th>\n",
       "      <th>AccountBalance</th>\n",
       "      <th>NumberOfProducts</th>\n",
       "      <th>IsCreditCardCustomer</th>\n",
       "      <th>ActiveMember</th>\n",
       "      <th>Salary</th>\n",
       "      <th>Churn</th>\n",
       "    </tr>\n",
       "  </thead>\n",
       "  <tbody>\n",
       "    <tr>\n",
       "      <td>0</td>\n",
       "      <td>C5814651</td>\n",
       "      <td>Name_5814651</td>\n",
       "      <td>1980</td>\n",
       "      <td>5</td>\n",
       "      <td>12</td>\n",
       "      <td>2014</td>\n",
       "      <td>11</td>\n",
       "      <td>28</td>\n",
       "      <td>Male</td>\n",
       "      <td>Location11</td>\n",
       "      <td>...</td>\n",
       "      <td>divorced</td>\n",
       "      <td>management</td>\n",
       "      <td>no</td>\n",
       "      <td>716</td>\n",
       "      <td>0.00</td>\n",
       "      <td>2</td>\n",
       "      <td>1</td>\n",
       "      <td>0</td>\n",
       "      <td>189678.70</td>\n",
       "      <td>0</td>\n",
       "    </tr>\n",
       "    <tr>\n",
       "      <td>1</td>\n",
       "      <td>C6465787</td>\n",
       "      <td>Name_6465787</td>\n",
       "      <td>1986</td>\n",
       "      <td>12</td>\n",
       "      <td>28</td>\n",
       "      <td>2011</td>\n",
       "      <td>8</td>\n",
       "      <td>17</td>\n",
       "      <td>Female</td>\n",
       "      <td>Location13</td>\n",
       "      <td>...</td>\n",
       "      <td>divorced</td>\n",
       "      <td>admin.</td>\n",
       "      <td>no</td>\n",
       "      <td>568</td>\n",
       "      <td>169399.60</td>\n",
       "      <td>1</td>\n",
       "      <td>1</td>\n",
       "      <td>0</td>\n",
       "      <td>61936.22</td>\n",
       "      <td>0</td>\n",
       "    </tr>\n",
       "    <tr>\n",
       "      <td>2</td>\n",
       "      <td>C3824349</td>\n",
       "      <td>Name_3824349</td>\n",
       "      <td>1999</td>\n",
       "      <td>11</td>\n",
       "      <td>23</td>\n",
       "      <td>2013</td>\n",
       "      <td>12</td>\n",
       "      <td>9</td>\n",
       "      <td>Male</td>\n",
       "      <td>Location13</td>\n",
       "      <td>...</td>\n",
       "      <td>married</td>\n",
       "      <td>NaN</td>\n",
       "      <td>NaN</td>\n",
       "      <td>739</td>\n",
       "      <td>89750.21</td>\n",
       "      <td>1</td>\n",
       "      <td>1</td>\n",
       "      <td>0</td>\n",
       "      <td>193008.52</td>\n",
       "      <td>0</td>\n",
       "    </tr>\n",
       "    <tr>\n",
       "      <td>3</td>\n",
       "      <td>C8431888</td>\n",
       "      <td>Name_8431888</td>\n",
       "      <td>1969</td>\n",
       "      <td>4</td>\n",
       "      <td>6</td>\n",
       "      <td>2015</td>\n",
       "      <td>12</td>\n",
       "      <td>12</td>\n",
       "      <td>Female</td>\n",
       "      <td>Location11</td>\n",
       "      <td>...</td>\n",
       "      <td>married</td>\n",
       "      <td>admin.</td>\n",
       "      <td>yes</td>\n",
       "      <td>678</td>\n",
       "      <td>204510.94</td>\n",
       "      <td>1</td>\n",
       "      <td>0</td>\n",
       "      <td>1</td>\n",
       "      <td>738.88</td>\n",
       "      <td>1</td>\n",
       "    </tr>\n",
       "    <tr>\n",
       "      <td>4</td>\n",
       "      <td>C2944860</td>\n",
       "      <td>Name_2944860</td>\n",
       "      <td>1993</td>\n",
       "      <td>6</td>\n",
       "      <td>15</td>\n",
       "      <td>2012</td>\n",
       "      <td>10</td>\n",
       "      <td>10</td>\n",
       "      <td>Male</td>\n",
       "      <td>Location13</td>\n",
       "      <td>...</td>\n",
       "      <td>single</td>\n",
       "      <td>management</td>\n",
       "      <td>no</td>\n",
       "      <td>670</td>\n",
       "      <td>0.00</td>\n",
       "      <td>2</td>\n",
       "      <td>1</td>\n",
       "      <td>1</td>\n",
       "      <td>78358.94</td>\n",
       "      <td>0</td>\n",
       "    </tr>\n",
       "  </tbody>\n",
       "</table>\n",
       "<p>5 rows × 21 columns</p>\n",
       "</div>"
      ],
      "text/plain": [
       "  CustomerID  CustomerName  yearofBirth  monthofBirth  dayofBirth  \\\n",
       "0   C5814651  Name_5814651         1980             5          12   \n",
       "1   C6465787  Name_6465787         1986            12          28   \n",
       "2   C3824349  Name_3824349         1999            11          23   \n",
       "3   C8431888  Name_8431888         1969             4           6   \n",
       "4   C2944860  Name_2944860         1993             6          15   \n",
       "\n",
       "   yearofEntry  monthofEntry  dayofEntry  Gender    Location  ...  \\\n",
       "0         2014            11          28    Male  Location11  ...   \n",
       "1         2011             8          17  Female  Location13  ...   \n",
       "2         2013            12           9    Male  Location13  ...   \n",
       "3         2015            12          12  Female  Location11  ...   \n",
       "4         2012            10          10    Male  Location13  ...   \n",
       "\n",
       "  MaritalStatus  Occupation Ownhouse CreditScore  AccountBalance  \\\n",
       "0      divorced  management       no         716            0.00   \n",
       "1      divorced      admin.       no         568       169399.60   \n",
       "2       married         NaN      NaN         739        89750.21   \n",
       "3       married      admin.      yes         678       204510.94   \n",
       "4        single  management       no         670            0.00   \n",
       "\n",
       "   NumberOfProducts  IsCreditCardCustomer  ActiveMember     Salary  Churn  \n",
       "0                 2                     1             0  189678.70      0  \n",
       "1                 1                     1             0   61936.22      0  \n",
       "2                 1                     1             0  193008.52      0  \n",
       "3                 1                     0             1     738.88      1  \n",
       "4                 2                     1             1   78358.94      0  \n",
       "\n",
       "[5 rows x 21 columns]"
      ]
     },
     "execution_count": 6,
     "metadata": {},
     "output_type": "execute_result"
    }
   ],
   "source": [
    "bankdata.head() #Checking the first 5 elements "
   ]
  },
  {
   "cell_type": "code",
   "execution_count": 7,
   "metadata": {},
   "outputs": [
    {
     "name": "stdout",
     "output_type": "stream",
     "text": [
      "['CustomerID', 'CustomerName', 'yearofBirth', 'monthofBirth', 'dayofBirth', 'yearofEntry', 'monthofEntry', 'dayofEntry', 'Gender', 'Location', 'Education', 'MaritalStatus', 'Occupation', 'Ownhouse', 'CreditScore', 'AccountBalance', 'NumberOfProducts', 'IsCreditCardCustomer', 'ActiveMember', 'Salary', 'Churn']\n"
     ]
    }
   ],
   "source": [
    "print(list(bankdata.columns)) #Printing the Column names"
   ]
  },
  {
   "cell_type": "code",
   "execution_count": 8,
   "metadata": {},
   "outputs": [
    {
     "name": "stdout",
     "output_type": "stream",
     "text": [
      "CustomerID               object\n",
      "CustomerName             object\n",
      "yearofBirth               int64\n",
      "monthofBirth              int64\n",
      "dayofBirth                int64\n",
      "yearofEntry               int64\n",
      "monthofEntry              int64\n",
      "dayofEntry                int64\n",
      "Gender                   object\n",
      "Location                 object\n",
      "Education                object\n",
      "MaritalStatus            object\n",
      "Occupation               object\n",
      "Ownhouse                 object\n",
      "CreditScore               int64\n",
      "AccountBalance          float64\n",
      "NumberOfProducts          int64\n",
      "IsCreditCardCustomer      int64\n",
      "ActiveMember              int64\n",
      "Salary                  float64\n",
      "Churn                     int64\n",
      "dtype: object\n"
     ]
    }
   ],
   "source": [
    "print((bankdata.dtypes)) # Getting all the data types"
   ]
  },
  {
   "cell_type": "code",
   "execution_count": 9,
   "metadata": {},
   "outputs": [
    {
     "data": {
      "text/html": [
       "<div>\n",
       "<style scoped>\n",
       "    .dataframe tbody tr th:only-of-type {\n",
       "        vertical-align: middle;\n",
       "    }\n",
       "\n",
       "    .dataframe tbody tr th {\n",
       "        vertical-align: top;\n",
       "    }\n",
       "\n",
       "    .dataframe thead th {\n",
       "        text-align: right;\n",
       "    }\n",
       "</style>\n",
       "<table border=\"1\" class=\"dataframe\">\n",
       "  <thead>\n",
       "    <tr style=\"text-align: right;\">\n",
       "      <th></th>\n",
       "      <th>yearofBirth</th>\n",
       "      <th>monthofBirth</th>\n",
       "      <th>dayofBirth</th>\n",
       "      <th>yearofEntry</th>\n",
       "      <th>monthofEntry</th>\n",
       "      <th>dayofEntry</th>\n",
       "      <th>CreditScore</th>\n",
       "      <th>AccountBalance</th>\n",
       "      <th>NumberOfProducts</th>\n",
       "      <th>IsCreditCardCustomer</th>\n",
       "      <th>ActiveMember</th>\n",
       "      <th>Salary</th>\n",
       "      <th>Churn</th>\n",
       "    </tr>\n",
       "  </thead>\n",
       "  <tbody>\n",
       "    <tr>\n",
       "      <td>count</td>\n",
       "      <td>7360.000000</td>\n",
       "      <td>7360.000000</td>\n",
       "      <td>7360.000000</td>\n",
       "      <td>7360.000000</td>\n",
       "      <td>7360.000000</td>\n",
       "      <td>7360.000000</td>\n",
       "      <td>7360.000000</td>\n",
       "      <td>7360.000000</td>\n",
       "      <td>7360.000000</td>\n",
       "      <td>7360.000000</td>\n",
       "      <td>7360.000000</td>\n",
       "      <td>7360.000000</td>\n",
       "      <td>7360.000000</td>\n",
       "    </tr>\n",
       "    <tr>\n",
       "      <td>mean</td>\n",
       "      <td>1979.058832</td>\n",
       "      <td>6.540897</td>\n",
       "      <td>14.607201</td>\n",
       "      <td>2012.984783</td>\n",
       "      <td>6.477174</td>\n",
       "      <td>14.505571</td>\n",
       "      <td>650.648777</td>\n",
       "      <td>76601.068011</td>\n",
       "      <td>1.524592</td>\n",
       "      <td>0.704212</td>\n",
       "      <td>0.510462</td>\n",
       "      <td>99967.894062</td>\n",
       "      <td>0.202717</td>\n",
       "    </tr>\n",
       "    <tr>\n",
       "      <td>std</td>\n",
       "      <td>10.464673</td>\n",
       "      <td>3.432135</td>\n",
       "      <td>8.068158</td>\n",
       "      <td>2.898385</td>\n",
       "      <td>3.433252</td>\n",
       "      <td>8.020220</td>\n",
       "      <td>96.769231</td>\n",
       "      <td>62442.214871</td>\n",
       "      <td>0.577415</td>\n",
       "      <td>0.456427</td>\n",
       "      <td>0.499924</td>\n",
       "      <td>57342.390262</td>\n",
       "      <td>0.402051</td>\n",
       "    </tr>\n",
       "    <tr>\n",
       "      <td>min</td>\n",
       "      <td>1926.000000</td>\n",
       "      <td>1.000000</td>\n",
       "      <td>1.000000</td>\n",
       "      <td>2008.000000</td>\n",
       "      <td>1.000000</td>\n",
       "      <td>1.000000</td>\n",
       "      <td>350.000000</td>\n",
       "      <td>0.000000</td>\n",
       "      <td>1.000000</td>\n",
       "      <td>0.000000</td>\n",
       "      <td>0.000000</td>\n",
       "      <td>11.580000</td>\n",
       "      <td>0.000000</td>\n",
       "    </tr>\n",
       "    <tr>\n",
       "      <td>25%</td>\n",
       "      <td>1974.000000</td>\n",
       "      <td>4.000000</td>\n",
       "      <td>8.000000</td>\n",
       "      <td>2010.000000</td>\n",
       "      <td>4.000000</td>\n",
       "      <td>8.000000</td>\n",
       "      <td>584.000000</td>\n",
       "      <td>0.000000</td>\n",
       "      <td>1.000000</td>\n",
       "      <td>0.000000</td>\n",
       "      <td>0.000000</td>\n",
       "      <td>51361.780000</td>\n",
       "      <td>0.000000</td>\n",
       "    </tr>\n",
       "    <tr>\n",
       "      <td>50%</td>\n",
       "      <td>1981.000000</td>\n",
       "      <td>7.000000</td>\n",
       "      <td>15.000000</td>\n",
       "      <td>2013.000000</td>\n",
       "      <td>6.000000</td>\n",
       "      <td>15.000000</td>\n",
       "      <td>652.000000</td>\n",
       "      <td>96913.725000</td>\n",
       "      <td>1.000000</td>\n",
       "      <td>1.000000</td>\n",
       "      <td>1.000000</td>\n",
       "      <td>99446.940000</td>\n",
       "      <td>0.000000</td>\n",
       "    </tr>\n",
       "    <tr>\n",
       "      <td>75%</td>\n",
       "      <td>1986.000000</td>\n",
       "      <td>10.000000</td>\n",
       "      <td>22.000000</td>\n",
       "      <td>2015.250000</td>\n",
       "      <td>9.000000</td>\n",
       "      <td>21.000000</td>\n",
       "      <td>718.000000</td>\n",
       "      <td>127660.767500</td>\n",
       "      <td>2.000000</td>\n",
       "      <td>1.000000</td>\n",
       "      <td>1.000000</td>\n",
       "      <td>149068.075000</td>\n",
       "      <td>0.000000</td>\n",
       "    </tr>\n",
       "    <tr>\n",
       "      <td>max</td>\n",
       "      <td>2000.000000</td>\n",
       "      <td>12.000000</td>\n",
       "      <td>28.000000</td>\n",
       "      <td>2018.000000</td>\n",
       "      <td>12.000000</td>\n",
       "      <td>28.000000</td>\n",
       "      <td>850.000000</td>\n",
       "      <td>250898.090000</td>\n",
       "      <td>4.000000</td>\n",
       "      <td>1.000000</td>\n",
       "      <td>1.000000</td>\n",
       "      <td>199992.480000</td>\n",
       "      <td>1.000000</td>\n",
       "    </tr>\n",
       "  </tbody>\n",
       "</table>\n",
       "</div>"
      ],
      "text/plain": [
       "       yearofBirth  monthofBirth   dayofBirth  yearofEntry  monthofEntry  \\\n",
       "count  7360.000000   7360.000000  7360.000000  7360.000000   7360.000000   \n",
       "mean   1979.058832      6.540897    14.607201  2012.984783      6.477174   \n",
       "std      10.464673      3.432135     8.068158     2.898385      3.433252   \n",
       "min    1926.000000      1.000000     1.000000  2008.000000      1.000000   \n",
       "25%    1974.000000      4.000000     8.000000  2010.000000      4.000000   \n",
       "50%    1981.000000      7.000000    15.000000  2013.000000      6.000000   \n",
       "75%    1986.000000     10.000000    22.000000  2015.250000      9.000000   \n",
       "max    2000.000000     12.000000    28.000000  2018.000000     12.000000   \n",
       "\n",
       "        dayofEntry  CreditScore  AccountBalance  NumberOfProducts  \\\n",
       "count  7360.000000  7360.000000     7360.000000       7360.000000   \n",
       "mean     14.505571   650.648777    76601.068011          1.524592   \n",
       "std       8.020220    96.769231    62442.214871          0.577415   \n",
       "min       1.000000   350.000000        0.000000          1.000000   \n",
       "25%       8.000000   584.000000        0.000000          1.000000   \n",
       "50%      15.000000   652.000000    96913.725000          1.000000   \n",
       "75%      21.000000   718.000000   127660.767500          2.000000   \n",
       "max      28.000000   850.000000   250898.090000          4.000000   \n",
       "\n",
       "       IsCreditCardCustomer  ActiveMember         Salary        Churn  \n",
       "count           7360.000000   7360.000000    7360.000000  7360.000000  \n",
       "mean               0.704212      0.510462   99967.894062     0.202717  \n",
       "std                0.456427      0.499924   57342.390262     0.402051  \n",
       "min                0.000000      0.000000      11.580000     0.000000  \n",
       "25%                0.000000      0.000000   51361.780000     0.000000  \n",
       "50%                1.000000      1.000000   99446.940000     0.000000  \n",
       "75%                1.000000      1.000000  149068.075000     0.000000  \n",
       "max                1.000000      1.000000  199992.480000     1.000000  "
      ]
     },
     "execution_count": 9,
     "metadata": {},
     "output_type": "execute_result"
    }
   ],
   "source": [
    "bankdata.describe() #Exploratory analysis"
   ]
  },
  {
   "cell_type": "code",
   "execution_count": 10,
   "metadata": {},
   "outputs": [
    {
     "data": {
      "text/html": [
       "<div>\n",
       "<style scoped>\n",
       "    .dataframe tbody tr th:only-of-type {\n",
       "        vertical-align: middle;\n",
       "    }\n",
       "\n",
       "    .dataframe tbody tr th {\n",
       "        vertical-align: top;\n",
       "    }\n",
       "\n",
       "    .dataframe thead th {\n",
       "        text-align: right;\n",
       "    }\n",
       "</style>\n",
       "<table border=\"1\" class=\"dataframe\">\n",
       "  <thead>\n",
       "    <tr style=\"text-align: right;\">\n",
       "      <th></th>\n",
       "      <th>CustomerID</th>\n",
       "      <th>CustomerName</th>\n",
       "      <th>Gender</th>\n",
       "      <th>Location</th>\n",
       "      <th>Education</th>\n",
       "      <th>MaritalStatus</th>\n",
       "      <th>Occupation</th>\n",
       "      <th>Ownhouse</th>\n",
       "    </tr>\n",
       "  </thead>\n",
       "  <tbody>\n",
       "    <tr>\n",
       "      <td>count</td>\n",
       "      <td>7360</td>\n",
       "      <td>7360</td>\n",
       "      <td>7360</td>\n",
       "      <td>7360</td>\n",
       "      <td>5500</td>\n",
       "      <td>7360</td>\n",
       "      <td>6579</td>\n",
       "      <td>7169</td>\n",
       "    </tr>\n",
       "    <tr>\n",
       "      <td>unique</td>\n",
       "      <td>7360</td>\n",
       "      <td>7360</td>\n",
       "      <td>2</td>\n",
       "      <td>3</td>\n",
       "      <td>3</td>\n",
       "      <td>3</td>\n",
       "      <td>6</td>\n",
       "      <td>2</td>\n",
       "    </tr>\n",
       "    <tr>\n",
       "      <td>top</td>\n",
       "      <td>C4199584</td>\n",
       "      <td>Name_8819514</td>\n",
       "      <td>Male</td>\n",
       "      <td>Location11</td>\n",
       "      <td>primary</td>\n",
       "      <td>single</td>\n",
       "      <td>admin.</td>\n",
       "      <td>no</td>\n",
       "    </tr>\n",
       "    <tr>\n",
       "      <td>freq</td>\n",
       "      <td>1</td>\n",
       "      <td>1</td>\n",
       "      <td>3994</td>\n",
       "      <td>3693</td>\n",
       "      <td>1864</td>\n",
       "      <td>2559</td>\n",
       "      <td>3207</td>\n",
       "      <td>3684</td>\n",
       "    </tr>\n",
       "  </tbody>\n",
       "</table>\n",
       "</div>"
      ],
      "text/plain": [
       "       CustomerID  CustomerName Gender    Location Education MaritalStatus  \\\n",
       "count        7360          7360   7360        7360      5500          7360   \n",
       "unique       7360          7360      2           3         3             3   \n",
       "top      C4199584  Name_8819514   Male  Location11   primary        single   \n",
       "freq            1             1   3994        3693      1864          2559   \n",
       "\n",
       "       Occupation Ownhouse  \n",
       "count        6579     7169  \n",
       "unique          6        2  \n",
       "top        admin.       no  \n",
       "freq         3207     3684  "
      ]
     },
     "execution_count": 10,
     "metadata": {},
     "output_type": "execute_result"
    }
   ],
   "source": [
    "bankdata.describe(include='object')"
   ]
  },
  {
   "cell_type": "code",
   "execution_count": 11,
   "metadata": {},
   "outputs": [],
   "source": [
    "# Dropping the Unneccesary columns\n",
    "\n",
    "bankdata.drop(\"CustomerID\", axis = 1, inplace= True)  \n",
    "bankdata.drop(\"CustomerName\", axis = 1, inplace= True)"
   ]
  },
  {
   "cell_type": "code",
   "execution_count": 12,
   "metadata": {},
   "outputs": [
    {
     "data": {
      "text/html": [
       "<div>\n",
       "<style scoped>\n",
       "    .dataframe tbody tr th:only-of-type {\n",
       "        vertical-align: middle;\n",
       "    }\n",
       "\n",
       "    .dataframe tbody tr th {\n",
       "        vertical-align: top;\n",
       "    }\n",
       "\n",
       "    .dataframe thead th {\n",
       "        text-align: right;\n",
       "    }\n",
       "</style>\n",
       "<table border=\"1\" class=\"dataframe\">\n",
       "  <thead>\n",
       "    <tr style=\"text-align: right;\">\n",
       "      <th></th>\n",
       "      <th>Gender</th>\n",
       "      <th>Location</th>\n",
       "      <th>Education</th>\n",
       "      <th>MaritalStatus</th>\n",
       "      <th>Occupation</th>\n",
       "      <th>Ownhouse</th>\n",
       "    </tr>\n",
       "  </thead>\n",
       "  <tbody>\n",
       "    <tr>\n",
       "      <td>count</td>\n",
       "      <td>7360</td>\n",
       "      <td>7360</td>\n",
       "      <td>5500</td>\n",
       "      <td>7360</td>\n",
       "      <td>6579</td>\n",
       "      <td>7169</td>\n",
       "    </tr>\n",
       "    <tr>\n",
       "      <td>unique</td>\n",
       "      <td>2</td>\n",
       "      <td>3</td>\n",
       "      <td>3</td>\n",
       "      <td>3</td>\n",
       "      <td>6</td>\n",
       "      <td>2</td>\n",
       "    </tr>\n",
       "    <tr>\n",
       "      <td>top</td>\n",
       "      <td>Male</td>\n",
       "      <td>Location11</td>\n",
       "      <td>primary</td>\n",
       "      <td>single</td>\n",
       "      <td>admin.</td>\n",
       "      <td>no</td>\n",
       "    </tr>\n",
       "    <tr>\n",
       "      <td>freq</td>\n",
       "      <td>3994</td>\n",
       "      <td>3693</td>\n",
       "      <td>1864</td>\n",
       "      <td>2559</td>\n",
       "      <td>3207</td>\n",
       "      <td>3684</td>\n",
       "    </tr>\n",
       "  </tbody>\n",
       "</table>\n",
       "</div>"
      ],
      "text/plain": [
       "       Gender    Location Education MaritalStatus Occupation Ownhouse\n",
       "count    7360        7360      5500          7360       6579     7169\n",
       "unique      2           3         3             3          6        2\n",
       "top      Male  Location11   primary        single     admin.       no\n",
       "freq     3994        3693      1864          2559       3207     3684"
      ]
     },
     "execution_count": 12,
     "metadata": {},
     "output_type": "execute_result"
    }
   ],
   "source": [
    "bankdata.describe(include='object')"
   ]
  },
  {
   "cell_type": "markdown",
   "metadata": {},
   "source": [
    "### Converting necessary numerical columns to Categorical"
   ]
  },
  {
   "cell_type": "code",
   "execution_count": 13,
   "metadata": {},
   "outputs": [],
   "source": [
    "bankdata['NumberOfProducts'] = bankdata['NumberOfProducts'].astype('category')\n",
    "bankdata['IsCreditCardCustomer'] = bankdata['IsCreditCardCustomer'].astype('category')\n",
    "bankdata['ActiveMember'] = bankdata['ActiveMember'].astype('category')\n",
    "bankdata['Churn'] = bankdata['Churn'].astype('category')"
   ]
  },
  {
   "cell_type": "markdown",
   "metadata": {},
   "source": [
    "### Converting all object datatype to categorical"
   ]
  },
  {
   "cell_type": "code",
   "execution_count": 14,
   "metadata": {},
   "outputs": [
    {
     "data": {
      "text/plain": [
       "['Gender', 'Location', 'Education', 'MaritalStatus', 'Occupation', 'Ownhouse']"
      ]
     },
     "execution_count": 14,
     "metadata": {},
     "output_type": "execute_result"
    }
   ],
   "source": [
    "cat_attr1 = list(bankdata.select_dtypes(\"object\").columns)\n",
    "cat_attr1"
   ]
  },
  {
   "cell_type": "code",
   "execution_count": 15,
   "metadata": {},
   "outputs": [],
   "source": [
    "for col in cat_attr1:\n",
    "    bankdata[col] = bankdata[col].astype('category')"
   ]
  },
  {
   "cell_type": "code",
   "execution_count": 16,
   "metadata": {},
   "outputs": [
    {
     "data": {
      "text/html": [
       "<div>\n",
       "<style scoped>\n",
       "    .dataframe tbody tr th:only-of-type {\n",
       "        vertical-align: middle;\n",
       "    }\n",
       "\n",
       "    .dataframe tbody tr th {\n",
       "        vertical-align: top;\n",
       "    }\n",
       "\n",
       "    .dataframe thead th {\n",
       "        text-align: right;\n",
       "    }\n",
       "</style>\n",
       "<table border=\"1\" class=\"dataframe\">\n",
       "  <thead>\n",
       "    <tr style=\"text-align: right;\">\n",
       "      <th></th>\n",
       "      <th>Gender</th>\n",
       "      <th>Location</th>\n",
       "      <th>Education</th>\n",
       "      <th>MaritalStatus</th>\n",
       "      <th>Occupation</th>\n",
       "      <th>Ownhouse</th>\n",
       "      <th>NumberOfProducts</th>\n",
       "      <th>IsCreditCardCustomer</th>\n",
       "      <th>ActiveMember</th>\n",
       "      <th>Churn</th>\n",
       "    </tr>\n",
       "  </thead>\n",
       "  <tbody>\n",
       "    <tr>\n",
       "      <td>count</td>\n",
       "      <td>7360</td>\n",
       "      <td>7360</td>\n",
       "      <td>5500</td>\n",
       "      <td>7360</td>\n",
       "      <td>6579</td>\n",
       "      <td>7169</td>\n",
       "      <td>7360</td>\n",
       "      <td>7360</td>\n",
       "      <td>7360</td>\n",
       "      <td>7360</td>\n",
       "    </tr>\n",
       "    <tr>\n",
       "      <td>unique</td>\n",
       "      <td>2</td>\n",
       "      <td>3</td>\n",
       "      <td>3</td>\n",
       "      <td>3</td>\n",
       "      <td>6</td>\n",
       "      <td>2</td>\n",
       "      <td>4</td>\n",
       "      <td>2</td>\n",
       "      <td>2</td>\n",
       "      <td>2</td>\n",
       "    </tr>\n",
       "    <tr>\n",
       "      <td>top</td>\n",
       "      <td>Male</td>\n",
       "      <td>Location11</td>\n",
       "      <td>primary</td>\n",
       "      <td>single</td>\n",
       "      <td>admin.</td>\n",
       "      <td>no</td>\n",
       "      <td>1</td>\n",
       "      <td>1</td>\n",
       "      <td>1</td>\n",
       "      <td>0</td>\n",
       "    </tr>\n",
       "    <tr>\n",
       "      <td>freq</td>\n",
       "      <td>3994</td>\n",
       "      <td>3693</td>\n",
       "      <td>1864</td>\n",
       "      <td>2559</td>\n",
       "      <td>3207</td>\n",
       "      <td>3684</td>\n",
       "      <td>3768</td>\n",
       "      <td>5183</td>\n",
       "      <td>3757</td>\n",
       "      <td>5868</td>\n",
       "    </tr>\n",
       "  </tbody>\n",
       "</table>\n",
       "</div>"
      ],
      "text/plain": [
       "       Gender    Location Education MaritalStatus Occupation Ownhouse  \\\n",
       "count    7360        7360      5500          7360       6579     7169   \n",
       "unique      2           3         3             3          6        2   \n",
       "top      Male  Location11   primary        single     admin.       no   \n",
       "freq     3994        3693      1864          2559       3207     3684   \n",
       "\n",
       "        NumberOfProducts  IsCreditCardCustomer  ActiveMember  Churn  \n",
       "count               7360                  7360          7360   7360  \n",
       "unique                 4                     2             2      2  \n",
       "top                    1                     1             1      0  \n",
       "freq                3768                  5183          3757   5868  "
      ]
     },
     "execution_count": 16,
     "metadata": {},
     "output_type": "execute_result"
    }
   ],
   "source": [
    "bankdata.describe(include='category')"
   ]
  },
  {
   "cell_type": "code",
   "execution_count": 17,
   "metadata": {},
   "outputs": [
    {
     "data": {
      "text/html": [
       "<div>\n",
       "<style scoped>\n",
       "    .dataframe tbody tr th:only-of-type {\n",
       "        vertical-align: middle;\n",
       "    }\n",
       "\n",
       "    .dataframe tbody tr th {\n",
       "        vertical-align: top;\n",
       "    }\n",
       "\n",
       "    .dataframe thead th {\n",
       "        text-align: right;\n",
       "    }\n",
       "</style>\n",
       "<table border=\"1\" class=\"dataframe\">\n",
       "  <thead>\n",
       "    <tr style=\"text-align: right;\">\n",
       "      <th></th>\n",
       "      <th>yearofBirth</th>\n",
       "      <th>monthofBirth</th>\n",
       "      <th>dayofBirth</th>\n",
       "      <th>yearofEntry</th>\n",
       "      <th>monthofEntry</th>\n",
       "      <th>dayofEntry</th>\n",
       "      <th>CreditScore</th>\n",
       "      <th>AccountBalance</th>\n",
       "      <th>Salary</th>\n",
       "    </tr>\n",
       "  </thead>\n",
       "  <tbody>\n",
       "    <tr>\n",
       "      <td>count</td>\n",
       "      <td>7360.000000</td>\n",
       "      <td>7360.000000</td>\n",
       "      <td>7360.000000</td>\n",
       "      <td>7360.000000</td>\n",
       "      <td>7360.000000</td>\n",
       "      <td>7360.000000</td>\n",
       "      <td>7360.000000</td>\n",
       "      <td>7360.000000</td>\n",
       "      <td>7360.000000</td>\n",
       "    </tr>\n",
       "    <tr>\n",
       "      <td>mean</td>\n",
       "      <td>1979.058832</td>\n",
       "      <td>6.540897</td>\n",
       "      <td>14.607201</td>\n",
       "      <td>2012.984783</td>\n",
       "      <td>6.477174</td>\n",
       "      <td>14.505571</td>\n",
       "      <td>650.648777</td>\n",
       "      <td>76601.068011</td>\n",
       "      <td>99967.894062</td>\n",
       "    </tr>\n",
       "    <tr>\n",
       "      <td>std</td>\n",
       "      <td>10.464673</td>\n",
       "      <td>3.432135</td>\n",
       "      <td>8.068158</td>\n",
       "      <td>2.898385</td>\n",
       "      <td>3.433252</td>\n",
       "      <td>8.020220</td>\n",
       "      <td>96.769231</td>\n",
       "      <td>62442.214871</td>\n",
       "      <td>57342.390262</td>\n",
       "    </tr>\n",
       "    <tr>\n",
       "      <td>min</td>\n",
       "      <td>1926.000000</td>\n",
       "      <td>1.000000</td>\n",
       "      <td>1.000000</td>\n",
       "      <td>2008.000000</td>\n",
       "      <td>1.000000</td>\n",
       "      <td>1.000000</td>\n",
       "      <td>350.000000</td>\n",
       "      <td>0.000000</td>\n",
       "      <td>11.580000</td>\n",
       "    </tr>\n",
       "    <tr>\n",
       "      <td>25%</td>\n",
       "      <td>1974.000000</td>\n",
       "      <td>4.000000</td>\n",
       "      <td>8.000000</td>\n",
       "      <td>2010.000000</td>\n",
       "      <td>4.000000</td>\n",
       "      <td>8.000000</td>\n",
       "      <td>584.000000</td>\n",
       "      <td>0.000000</td>\n",
       "      <td>51361.780000</td>\n",
       "    </tr>\n",
       "    <tr>\n",
       "      <td>50%</td>\n",
       "      <td>1981.000000</td>\n",
       "      <td>7.000000</td>\n",
       "      <td>15.000000</td>\n",
       "      <td>2013.000000</td>\n",
       "      <td>6.000000</td>\n",
       "      <td>15.000000</td>\n",
       "      <td>652.000000</td>\n",
       "      <td>96913.725000</td>\n",
       "      <td>99446.940000</td>\n",
       "    </tr>\n",
       "    <tr>\n",
       "      <td>75%</td>\n",
       "      <td>1986.000000</td>\n",
       "      <td>10.000000</td>\n",
       "      <td>22.000000</td>\n",
       "      <td>2015.250000</td>\n",
       "      <td>9.000000</td>\n",
       "      <td>21.000000</td>\n",
       "      <td>718.000000</td>\n",
       "      <td>127660.767500</td>\n",
       "      <td>149068.075000</td>\n",
       "    </tr>\n",
       "    <tr>\n",
       "      <td>max</td>\n",
       "      <td>2000.000000</td>\n",
       "      <td>12.000000</td>\n",
       "      <td>28.000000</td>\n",
       "      <td>2018.000000</td>\n",
       "      <td>12.000000</td>\n",
       "      <td>28.000000</td>\n",
       "      <td>850.000000</td>\n",
       "      <td>250898.090000</td>\n",
       "      <td>199992.480000</td>\n",
       "    </tr>\n",
       "  </tbody>\n",
       "</table>\n",
       "</div>"
      ],
      "text/plain": [
       "       yearofBirth  monthofBirth   dayofBirth  yearofEntry  monthofEntry  \\\n",
       "count  7360.000000   7360.000000  7360.000000  7360.000000   7360.000000   \n",
       "mean   1979.058832      6.540897    14.607201  2012.984783      6.477174   \n",
       "std      10.464673      3.432135     8.068158     2.898385      3.433252   \n",
       "min    1926.000000      1.000000     1.000000  2008.000000      1.000000   \n",
       "25%    1974.000000      4.000000     8.000000  2010.000000      4.000000   \n",
       "50%    1981.000000      7.000000    15.000000  2013.000000      6.000000   \n",
       "75%    1986.000000     10.000000    22.000000  2015.250000      9.000000   \n",
       "max    2000.000000     12.000000    28.000000  2018.000000     12.000000   \n",
       "\n",
       "        dayofEntry  CreditScore  AccountBalance         Salary  \n",
       "count  7360.000000  7360.000000     7360.000000    7360.000000  \n",
       "mean     14.505571   650.648777    76601.068011   99967.894062  \n",
       "std       8.020220    96.769231    62442.214871   57342.390262  \n",
       "min       1.000000   350.000000        0.000000      11.580000  \n",
       "25%       8.000000   584.000000        0.000000   51361.780000  \n",
       "50%      15.000000   652.000000    96913.725000   99446.940000  \n",
       "75%      21.000000   718.000000   127660.767500  149068.075000  \n",
       "max      28.000000   850.000000   250898.090000  199992.480000  "
      ]
     },
     "execution_count": 17,
     "metadata": {},
     "output_type": "execute_result"
    }
   ],
   "source": [
    "bankdata.describe()"
   ]
  },
  {
   "cell_type": "code",
   "execution_count": 18,
   "metadata": {},
   "outputs": [
    {
     "name": "stdout",
     "output_type": "stream",
     "text": [
      "yearofBirth                int64\n",
      "monthofBirth               int64\n",
      "dayofBirth                 int64\n",
      "yearofEntry                int64\n",
      "monthofEntry               int64\n",
      "dayofEntry                 int64\n",
      "Gender                  category\n",
      "Location                category\n",
      "Education               category\n",
      "MaritalStatus           category\n",
      "Occupation              category\n",
      "Ownhouse                category\n",
      "CreditScore                int64\n",
      "AccountBalance           float64\n",
      "NumberOfProducts        category\n",
      "IsCreditCardCustomer    category\n",
      "ActiveMember            category\n",
      "Salary                   float64\n",
      "Churn                   category\n",
      "dtype: object\n"
     ]
    }
   ],
   "source": [
    "print((bankdata.dtypes))"
   ]
  },
  {
   "cell_type": "code",
   "execution_count": 19,
   "metadata": {},
   "outputs": [
    {
     "name": "stdout",
     "output_type": "stream",
     "text": [
      "(7360, 19)\n"
     ]
    }
   ],
   "source": [
    "print(bankdata.shape)"
   ]
  },
  {
   "cell_type": "markdown",
   "metadata": {},
   "source": [
    "### Distribution of all categorical columns"
   ]
  },
  {
   "cell_type": "code",
   "execution_count": 20,
   "metadata": {},
   "outputs": [
    {
     "name": "stdout",
     "output_type": "stream",
     "text": [
      "Male      3994\n",
      "Female    3366\n",
      "Name: Gender, dtype: int64\n",
      "Location11    3693\n",
      "Location12    1834\n",
      "Location13    1833\n",
      "Name: Location, dtype: int64\n",
      "primary      1864\n",
      "secondary    1839\n",
      "tertiary     1797\n",
      "Name: Education, dtype: int64\n",
      "single      2559\n",
      "married     2503\n",
      "divorced    2298\n",
      "Name: MaritalStatus, dtype: int64\n",
      "admin.           3207\n",
      "technician        770\n",
      "services          762\n",
      "management        749\n",
      "self-employed     748\n",
      "retired           343\n",
      "Name: Occupation, dtype: int64\n",
      "no     3684\n",
      "yes    3485\n",
      "Name: Ownhouse, dtype: int64\n",
      "1    3768\n",
      "2    3363\n",
      "3     189\n",
      "4      40\n",
      "Name: NumberOfProducts, dtype: int64\n",
      "1    5183\n",
      "0    2177\n",
      "Name: IsCreditCardCustomer, dtype: int64\n",
      "1    3757\n",
      "0    3603\n",
      "Name: ActiveMember, dtype: int64\n"
     ]
    }
   ],
   "source": [
    "print(bankdata.Gender.value_counts())\n",
    "print(bankdata.Location.value_counts())\n",
    "print(bankdata.Education.value_counts())\n",
    "print(bankdata.MaritalStatus.value_counts())\n",
    "print(bankdata.Occupation.value_counts())\n",
    "print(bankdata.Ownhouse.value_counts())\n",
    "\n",
    "print(bankdata.NumberOfProducts.value_counts())\n",
    "print(bankdata.IsCreditCardCustomer.value_counts())\n",
    "print(bankdata.ActiveMember.value_counts())\n"
   ]
  },
  {
   "cell_type": "markdown",
   "metadata": {},
   "source": [
    "### Plot Distribution for target"
   ]
  },
  {
   "cell_type": "code",
   "execution_count": 21,
   "metadata": {},
   "outputs": [
    {
     "data": {
      "image/png": "[encoded data removed]",
      "text/plain": [
       "<Figure size 432x288 with 1 Axes>"
      ]
     },
     "metadata": {
      "needs_background": "light"
     },
     "output_type": "display_data"
    },
    {
     "name": "stdout",
     "output_type": "stream",
     "text": [
      "0    5868\n",
      "1    1492\n",
      "Name: Churn, dtype: int64\n",
      "Percentage of people who have chruned out: 20.27173913043478 %\n"
     ]
    }
   ],
   "source": [
    "sns.countplot(x='Churn',data=bankdata)\n",
    "plt.show()\n",
    "\n",
    "# What are the counts?\n",
    "print(bankdata.Churn.value_counts())\n",
    "\n",
    "# What is the percentage?\n",
    "count_yes = len(bankdata[bankdata.Churn == 1])\n",
    "count_no = len(bankdata[bankdata.Churn != 1'])\n",
    "\n",
    "percent_success = count_yes/(count_yes + count_no)*100\n",
    "\n",
    "print('Percentage of people who have chruned out:', percent_success, \"%\")"
   ]
  },
  {
   "cell_type": "markdown",
   "metadata": {},
   "source": [
    "### Corelation on Numerical features"
   ]
  },
  {
   "cell_type": "code",
   "execution_count": 22,
   "metadata": {},
   "outputs": [],
   "source": [
    "corr = bankdata.corr()"
   ]
  },
  {
   "cell_type": "code",
   "execution_count": 23,
   "metadata": {},
   "outputs": [
    {
     "name": "stdout",
     "output_type": "stream",
     "text": [
      "                yearofBirth  monthofBirth  dayofBirth  yearofEntry  \\\n",
      "yearofBirth        1.000000      0.005599   -0.000953    -0.004867   \n",
      "monthofBirth       0.005599      1.000000    0.002987     0.002767   \n",
      "dayofBirth        -0.000953      0.002987    1.000000     0.002092   \n",
      "yearofEntry       -0.004867      0.002767    0.002092     1.000000   \n",
      "monthofEntry       0.002687      0.019782    0.010540     0.009005   \n",
      "dayofEntry        -0.006444     -0.002087    0.012893    -0.003492   \n",
      "CreditScore        0.004256      0.010518   -0.009132    -0.006094   \n",
      "AccountBalance    -0.026029      0.012895    0.001349     0.013077   \n",
      "Salary             0.008223     -0.002486   -0.012105    -0.003759   \n",
      "\n",
      "                monthofEntry  dayofEntry  CreditScore  AccountBalance  \\\n",
      "yearofBirth         0.002687   -0.006444     0.004256       -0.026029   \n",
      "monthofBirth        0.019782   -0.002087     0.010518        0.012895   \n",
      "dayofBirth          0.010540    0.012893    -0.009132        0.001349   \n",
      "yearofEntry         0.009005   -0.003492    -0.006094        0.013077   \n",
      "monthofEntry        1.000000    0.001631     0.001802        0.019794   \n",
      "dayofEntry          0.001631    1.000000    -0.011546       -0.009544   \n",
      "CreditScore         0.001802   -0.011546     1.000000        0.004097   \n",
      "AccountBalance      0.019794   -0.009544     0.004097        1.000000   \n",
      "Salary             -0.017081   -0.002147    -0.002007        0.010655   \n",
      "\n",
      "                  Salary  \n",
      "yearofBirth     0.008223  \n",
      "monthofBirth   -0.002486  \n",
      "dayofBirth     -0.012105  \n",
      "yearofEntry    -0.003759  \n",
      "monthofEntry   -0.017081  \n",
      "dayofEntry     -0.002147  \n",
      "CreditScore    -0.002007  \n",
      "AccountBalance  0.010655  \n",
      "Salary          1.000000  \n"
     ]
    }
   ],
   "source": [
    "print(corr)"
   ]
  },
  {
   "cell_type": "code",
   "execution_count": 24,
   "metadata": {
    "scrolled": false
   },
   "outputs": [
    {
     "data": {
      "text/plain": [
       "<matplotlib.axes._subplots.AxesSubplot at 0x18d76a16088>"
      ]
     },
     "execution_count": 24,
     "metadata": {},
     "output_type": "execute_result"
    },
    {
     "data": {
      "image/png": "[encoded data removed]",
      "text/plain": [
       "<Figure size 1080x864 with 2 Axes>"
      ]
     },
     "metadata": {
      "needs_background": "light"
     },
     "output_type": "display_data"
    }
   ],
   "source": [
    "mask = np.zeros_like(corr, dtype=np.bool)\n",
    "mask[np.triu_indices_from(mask)] = True\n",
    "\n",
    "\n",
    "# Set up the matplotlib figure\n",
    "f, ax = plt.subplots(figsize=(15, 12))\n",
    "\n",
    "# Generate a custom diverging colormap\n",
    "cmap = sns.diverging_palette(800, 14, as_cmap=True)\n",
    "\n",
    "# Draw the heatmap with the mask and correct aspect ratio\n",
    "sns.heatmap(corr, mask=mask, cmap=cmap, vmax=.3, center=0,\n",
    "            square=True, linewidths=.5, cbar_kws={\"shrink\": .5})"
   ]
  },
  {
   "cell_type": "markdown",
   "metadata": {},
   "source": [
    "### Analysing the categorical columns with the target variable"
   ]
  },
  {
   "cell_type": "code",
   "execution_count": 104,
   "metadata": {},
   "outputs": [
    {
     "name": "stdout",
     "output_type": "stream",
     "text": [
      "Female    0.549598\n",
      "Male      0.450402\n",
      "Name: Gender, dtype: float64\n",
      "Location12    0.404155\n",
      "Location11    0.381367\n",
      "Location13    0.214477\n",
      "Name: Location, dtype: float64\n",
      "secondary    0.360215\n",
      "primary      0.325269\n",
      "tertiary     0.314516\n",
      "Name: Education, dtype: float64\n",
      "single      0.357909\n",
      "married     0.321046\n",
      "divorced    0.321046\n",
      "Name: MaritalStatus, dtype: float64\n",
      "admin.           0.573855\n",
      "services         0.096750\n",
      "self-employed    0.091581\n",
      "management       0.091581\n",
      "technician       0.084934\n",
      "retired          0.061300\n",
      "Name: Occupation, dtype: float64\n",
      "no     0.502699\n",
      "yes    0.497301\n",
      "Name: Ownhouse, dtype: float64\n",
      "1    0.699062\n",
      "2    0.169571\n",
      "3    0.104558\n",
      "4    0.026810\n",
      "Name: NumberOfProducts, dtype: float64\n",
      "1    0.684316\n",
      "0    0.315684\n",
      "Name: IsCreditCardCustomer, dtype: float64\n",
      "0    0.633378\n",
      "1    0.366622\n",
      "Name: ActiveMember, dtype: float64\n"
     ]
    }
   ],
   "source": [
    "print(bankdata[bankdata.Churn == 1].Gender.value_counts(normalize=True))\n",
    "\n",
    "print(bankdata[bankdata.Churn == 1].Location.value_counts(normalize=True))\n",
    "\n",
    "print(bankdata[bankdata.Churn == 1].Education.value_counts(normalize=True))\n",
    "\n",
    "print(bankdata[bankdata.Churn == 1].MaritalStatus.value_counts(normalize=True))\n",
    "\n",
    "print(bankdata[bankdata.Churn == 1].Occupation.value_counts(normalize=True))\n",
    "\n",
    "print(bankdata[bankdata.Churn == 1].Ownhouse.value_counts(normalize=True))\n",
    "\n",
    "print(bankdata[bankdata.Churn == 1].NumberOfProducts.value_counts(normalize=True))\n",
    "\n",
    "print(bankdata[bankdata.Churn == 1].IsCreditCardCustomer.value_counts(normalize=True))\n",
    "\n",
    "print(bankdata[bankdata.Churn == 1].ActiveMember.value_counts(normalize=True))\n",
    "\n",
    "\n",
    "#Plots of these distribution are collated in a excel and attached"
   ]
  },
  {
   "cell_type": "code",
   "execution_count": null,
   "metadata": {},
   "outputs": [],
   "source": []
  },
  {
   "cell_type": "markdown",
   "metadata": {},
   "source": [
    "### Dividing the numerical columns and categorical  columns"
   ]
  },
  {
   "cell_type": "code",
   "execution_count": 27,
   "metadata": {},
   "outputs": [],
   "source": [
    "cat_attr = list(bankdata.select_dtypes(\"category\").columns)\n",
    "num_attr = list(bankdata.columns.difference(cat_attr))"
   ]
  },
  {
   "cell_type": "code",
   "execution_count": 28,
   "metadata": {},
   "outputs": [
    {
     "data": {
      "text/plain": [
       "['Gender',\n",
       " 'Location',\n",
       " 'Education',\n",
       " 'MaritalStatus',\n",
       " 'Occupation',\n",
       " 'Ownhouse',\n",
       " 'NumberOfProducts',\n",
       " 'IsCreditCardCustomer',\n",
       " 'ActiveMember',\n",
       " 'Churn']"
      ]
     },
     "execution_count": 28,
     "metadata": {},
     "output_type": "execute_result"
    }
   ],
   "source": [
    "cat_attr"
   ]
  },
  {
   "cell_type": "code",
   "execution_count": 29,
   "metadata": {},
   "outputs": [
    {
     "data": {
      "text/plain": [
       "['AccountBalance',\n",
       " 'CreditScore',\n",
       " 'Salary',\n",
       " 'dayofBirth',\n",
       " 'dayofEntry',\n",
       " 'monthofBirth',\n",
       " 'monthofEntry',\n",
       " 'yearofBirth',\n",
       " 'yearofEntry']"
      ]
     },
     "execution_count": 29,
     "metadata": {},
     "output_type": "execute_result"
    }
   ],
   "source": [
    "num_attr"
   ]
  },
  {
   "cell_type": "code",
   "execution_count": 30,
   "metadata": {},
   "outputs": [],
   "source": [
    "cat_attr.remove('Churn') #Dropping the Target column"
   ]
  },
  {
   "cell_type": "code",
   "execution_count": 31,
   "metadata": {},
   "outputs": [
    {
     "data": {
      "text/plain": [
       "yearofBirth                0\n",
       "monthofBirth               0\n",
       "dayofBirth                 0\n",
       "yearofEntry                0\n",
       "monthofEntry               0\n",
       "dayofEntry                 0\n",
       "Gender                     0\n",
       "Location                   0\n",
       "Education               1860\n",
       "MaritalStatus              0\n",
       "Occupation               781\n",
       "Ownhouse                 191\n",
       "CreditScore                0\n",
       "AccountBalance             0\n",
       "NumberOfProducts           0\n",
       "IsCreditCardCustomer       0\n",
       "ActiveMember               0\n",
       "Salary                     0\n",
       "Churn                      0\n",
       "dtype: int64"
      ]
     },
     "execution_count": 31,
     "metadata": {},
     "output_type": "execute_result"
    }
   ],
   "source": [
    "bankdata.isnull().sum() #Checking the NA values"
   ]
  },
  {
   "cell_type": "markdown",
   "metadata": {},
   "source": [
    "### Pipeline Initialization"
   ]
  },
  {
   "cell_type": "code",
   "execution_count": 32,
   "metadata": {},
   "outputs": [],
   "source": [
    "numeric_transformer = Pipeline(steps=[\n",
    "    ('scaler', StandardScaler())])\n",
    "\n",
    "categorical_transformer = Pipeline(steps=[\n",
    "    ('imputer', SimpleImputer(strategy='most_frequent',fill_value=\"missing_value\")),\n",
    "    ('onehot', OneHotEncoder(handle_unknown='ignore'))])\n",
    "\n",
    "preprocessor = ColumnTransformer(transformers=[\n",
    "        ('num', numeric_transformer, num_attr),\n",
    "        ('cat', categorical_transformer, cat_attr)\n",
    "])"
   ]
  },
  {
   "cell_type": "markdown",
   "metadata": {},
   "source": [
    "### Train and Test Split"
   ]
  },
  {
   "cell_type": "code",
   "execution_count": 33,
   "metadata": {},
   "outputs": [
    {
     "name": "stdout",
     "output_type": "stream",
     "text": [
      "(5152, 18)\n",
      "(2208, 18)\n",
      "(5152,)\n",
      "(2208,)\n"
     ]
    }
   ],
   "source": [
    "y = bankdata['Churn']\n",
    "x=bankdata.drop('Churn',axis=1)\n",
    "x_train,x_test,y_train,y_test = train_test_split(x,y,test_size=0.30)\n",
    "print(x_train.shape)\n",
    "print(x_test.shape)\n",
    "print(y_train.shape)\n",
    "print(y_test.shape)"
   ]
  },
  {
   "cell_type": "markdown",
   "metadata": {},
   "source": [
    "### Handling the Imbalance Problem"
   ]
  },
  {
   "cell_type": "code",
   "execution_count": 34,
   "metadata": {},
   "outputs": [],
   "source": [
    "clf = Pipeline(steps=[('preprocessor', preprocessor)])\n",
    "\n",
    "x_train_pp = pd.DataFrame(clf.fit_transform(x_train))\n",
    "x_test_pp = pd.DataFrame(clf.transform(x_test))"
   ]
  },
  {
   "cell_type": "code",
   "execution_count": 35,
   "metadata": {},
   "outputs": [],
   "source": [
    "smote = SMOTE(random_state=0)\n",
    "\n",
    "\n",
    "os_train_x,os_train_y=smote.fit_sample(x_train_pp, y_train)\n",
    "\n",
    "os_train_x = pd.DataFrame(data=os_train_x)\n",
    "os_train_y= pd.DataFrame(data=os_train_y,columns=['Churn'])"
   ]
  },
  {
   "cell_type": "code",
   "execution_count": 36,
   "metadata": {},
   "outputs": [
    {
     "name": "stdout",
     "output_type": "stream",
     "text": [
      "length of oversampled data is  8190\n",
      "Number of no subscription in oversampled data 4095\n",
      "Number of subscription 4095\n",
      "Proportion of Churn =0  is  0.5\n",
      "Proportion of Churn =1 is  0.5\n"
     ]
    }
   ],
   "source": [
    "# we can Check the numbers of our data\n",
    "print(\"length of oversampled data is \",len(os_train_x))\n",
    "print(\"Number of no subscription in oversampled data\",len(os_train_y[os_train_y['Churn']== 0]))\n",
    "print(\"Number of subscription\",len(os_train_y[os_train_y['Churn']==1]))\n",
    "print(\"Proportion of Churn =0  is \",len(os_train_y[os_train_y['Churn']==0])/len(os_train_x))\n",
    "print(\"Proportion of Churn =1 is \",len(os_train_y[os_train_y['Churn']==1])/len(os_train_x))"
   ]
  },
  {
   "cell_type": "code",
   "execution_count": 37,
   "metadata": {},
   "outputs": [
    {
     "data": {
      "image/png": "[encoded data removed]",
      "text/plain": [
       "<Figure size 432x288 with 1 Axes>"
      ]
     },
     "metadata": {
      "needs_background": "light"
     },
     "output_type": "display_data"
    },
    {
     "name": "stdout",
     "output_type": "stream",
     "text": [
      "1    4095\n",
      "0    4095\n",
      "Name: Churn, dtype: int64\n",
      "Percentage of people who have chruned out: 50.0 %\n"
     ]
    }
   ],
   "source": [
    "sns.countplot(x='Churn',data=os_train_y)\n",
    "plt.show()\n",
    "\n",
    "# What are the counts?\n",
    "print(os_train_y.Churn.value_counts())\n",
    "\n",
    "# What is the percentage?\n",
    "count_yes = len(os_train_y[os_train_y.Churn == 1])\n",
    "count_no = len(os_train_y[os_train_y.Churn != 1])\n",
    "\n",
    "percent_success = count_yes/(count_yes + count_no)*100\n",
    "\n",
    "print('Percentage of people who have chruned out:', percent_success, \"%\")"
   ]
  },
  {
   "cell_type": "markdown",
   "metadata": {},
   "source": [
    "### Model 1 Logistic regression"
   ]
  },
  {
   "cell_type": "code",
   "execution_count": 38,
   "metadata": {},
   "outputs": [
    {
     "name": "stdout",
     "output_type": "stream",
     "text": [
      "Train Data:\n",
      "Confusion matrix Train:\n",
      "[[3196  899]\n",
      " [ 909 3186]]\n",
      "Train Scores\n",
      "Train Precision:  0.7799265605875153\n",
      "Train Recall:  0.778021978021978\n",
      "Train Accuracy:  0.7792429792429793\n",
      "F1 Score Train:  1.2106363965704627\n",
      "\n",
      "\n",
      "Test Data:\n",
      "Confusion matrix Test:\n",
      "[[1395  378]\n",
      " [ 106  329]]\n",
      "Test Scores\n",
      "Test Precision:  0.46534653465346537\n",
      "Test Recall:  0.7563218390804598\n",
      "Test Accuracy:  0.7807971014492754\n",
      "F1 Score Test:  1.144045448540098\n"
     ]
    }
   ],
   "source": [
    "clf_logreg = Pipeline(steps=[('classifier', LogisticRegression(random_state=123))])\n",
    "\n",
    "clf_logreg.fit(os_train_x,os_train_y)\n",
    "\n",
    "train_pred = clf_logreg.predict(os_train_x).reshape(1,-1)[0]\n",
    "test_pred = clf_logreg.predict(x_test_pp).reshape(1,-1)[0]\n",
    "\n",
    "train_pred_lr = train_pred\n",
    "test_pred_lr= test_pred\n",
    "\n",
    "\n",
    "print(\"Train Data:\")\n",
    "print(\"Confusion matrix Train:\")\n",
    "confusion_matrix_train = confusion_matrix(os_train_y,train_pred)\n",
    "print(confusion_matrix_train)\n",
    "Train_Scores(confusion_matrix_train)\n",
    "print(\"\\n\")\n",
    "\n",
    "print(\"Test Data:\")\n",
    "print(\"Confusion matrix Test:\")\n",
    "confusion_matrix_test = confusion_matrix(y_test,test_pred)\n",
    "print(confusion_matrix_test)\n",
    "Test_Scores(confusion_matrix_test)"
   ]
  },
  {
   "cell_type": "markdown",
   "metadata": {},
   "source": [
    "### Model 2 SVM Model Type 1 "
   ]
  },
  {
   "cell_type": "code",
   "execution_count": 39,
   "metadata": {},
   "outputs": [
    {
     "name": "stdout",
     "output_type": "stream",
     "text": [
      "Train Data:\n",
      "Confusion matrix Train:\n",
      "[[3200  895]\n",
      " [ 903 3192]]\n",
      "Train Scores\n",
      "Train Precision:  0.7810129679471495\n",
      "Train Recall:  0.7794871794871795\n",
      "Train Accuracy:  0.7804639804639805\n",
      "F1 Score Train:  1.215200525969757\n",
      "\n",
      "\n",
      "Test Data:\n",
      "Confusion matrix Test:\n",
      "[[1384  389]\n",
      " [ 104  331]]\n",
      "Test Scores\n",
      "Test Precision:  0.4597222222222222\n",
      "Test Recall:  0.7609195402298851\n",
      "Test Accuracy:  0.7767210144927537\n",
      "F1 Score Test:  1.1579970934073194\n"
     ]
    }
   ],
   "source": [
    "from sklearn.naive_bayes import GaussianNB\n",
    "\n",
    "clf_svc = Pipeline(steps=[('classifier', SVC())])\n",
    "\n",
    "clf_svc.set_params(classifier__kernel='linear',classifier__C=1,\n",
    "                   classifier__random_state=123)\n",
    "\n",
    "clf_svc.fit(os_train_x,os_train_y)\n",
    "\n",
    "train_pred = clf_svc.predict(os_train_x).reshape(1,-1)[0]\n",
    "test_pred = clf_svc.predict(x_test_pp).reshape(1,-1)[0]\n",
    "\n",
    "train_pred_svc = train_pred\n",
    "test_pred_svc= test_pred\n",
    "\n",
    "\n",
    "print(\"Train Data:\")\n",
    "print(\"Confusion matrix Train:\")\n",
    "confusion_matrix_train = confusion_matrix(os_train_y,train_pred)\n",
    "print(confusion_matrix_train)\n",
    "Train_Scores(confusion_matrix_train)\n",
    "print(\"\\n\")\n",
    "\n",
    "print(\"Test Data:\")\n",
    "print(\"Confusion matrix Test:\")\n",
    "confusion_matrix_test = confusion_matrix(y_test,test_pred)\n",
    "print(confusion_matrix_test)\n",
    "Test_Scores(confusion_matrix_test)"
   ]
  },
  {
   "cell_type": "markdown",
   "metadata": {},
   "source": [
    "### Model 3 KNN"
   ]
  },
  {
   "cell_type": "code",
   "execution_count": 40,
   "metadata": {},
   "outputs": [
    {
     "name": "stdout",
     "output_type": "stream",
     "text": [
      "Train Data:\n",
      "Confusion matrix Train:\n",
      "[[3079 1016]\n",
      " [  26 4069]]\n",
      "Train Scores\n",
      "Train Precision:  0.800196656833825\n",
      "Train Recall:  0.9936507936507937\n",
      "Train Accuracy:  0.8727716727716728\n",
      "F1 Score Train:  1.9746837994457043\n",
      "\n",
      "\n",
      "Test Data:\n",
      "Confusion matrix Test:\n",
      "[[1143  630]\n",
      " [ 143  292]]\n",
      "Test Scores\n",
      "Test Precision:  0.31670281995661603\n",
      "Test Recall:  0.671264367816092\n",
      "Test Accuracy:  0.6499094202898551\n",
      "F1 Score Test:  0.9011917029990753\n"
     ]
    }
   ],
   "source": [
    "\n",
    "clf_knn = Pipeline(steps=[('classifier', KNeighborsClassifier())])\n",
    "\n",
    "clf_knn.set_params(classifier__n_neighbors=5)\n",
    "\n",
    "\n",
    "clf_knn.fit(os_train_x,os_train_y)\n",
    "\n",
    "train_pred = clf_knn.predict(os_train_x).reshape(1,-1)[0]\n",
    "test_pred = clf_knn.predict(x_test_pp).reshape(1,-1)[0]\n",
    "\n",
    "train_pred_knn = train_pred\n",
    "test_pred_knn= test_pred\n",
    "\n",
    "print(\"Train Data:\")\n",
    "print(\"Confusion matrix Train:\")\n",
    "confusion_matrix_train = confusion_matrix(os_train_y,train_pred)\n",
    "print(confusion_matrix_train)\n",
    "Train_Scores(confusion_matrix_train)\n",
    "print(\"\\n\")\n",
    "\n",
    "print(\"Test Data:\")\n",
    "print(\"Confusion matrix Test:\")\n",
    "confusion_matrix_test = confusion_matrix(y_test,test_pred)\n",
    "print(confusion_matrix_test)\n",
    "Test_Scores(confusion_matrix_test)"
   ]
  },
  {
   "cell_type": "markdown",
   "metadata": {},
   "source": [
    "### Model 4 Decision Tress Type 1"
   ]
  },
  {
   "cell_type": "code",
   "execution_count": 41,
   "metadata": {},
   "outputs": [
    {
     "name": "stdout",
     "output_type": "stream",
     "text": [
      "Train Data:\n",
      "Confusion matrix Train:\n",
      "[[4095    0]\n",
      " [   0 4095]]\n",
      "Train Scores\n",
      "Train Precision:  1.0\n",
      "Train Recall:  1.0\n",
      "Train Accuracy:  1.0\n",
      "F1 Score Train:  2.0\n",
      "\n",
      "\n",
      "Test Data:\n",
      "Confusion matrix Test:\n",
      "[[1471  302]\n",
      " [ 205  230]]\n",
      "Test Scores\n",
      "Test Precision:  0.4323308270676692\n",
      "Test Recall:  0.5287356321839081\n",
      "Test Accuracy:  0.7703804347826086\n",
      "F1 Score Test:  0.5591227374818339\n"
     ]
    }
   ],
   "source": [
    "from sklearn import tree\n",
    "\n",
    "clf_dt1 = Pipeline(steps=[('classifier', tree.DecisionTreeClassifier())])\n",
    "\n",
    "clf_dt1.set_params(classifier__random_state=123)\n",
    "\n",
    "clf_dt1.fit(os_train_x,os_train_y)\n",
    "\n",
    "train_pred = clf_dt1.predict(os_train_x).reshape(1,-1)[0]\n",
    "test_pred = clf_dt1.predict(x_test_pp).reshape(1,-1)[0]\n",
    "\n",
    "print(\"Train Data:\")\n",
    "print(\"Confusion matrix Train:\")\n",
    "confusion_matrix_train = confusion_matrix(os_train_y,train_pred)\n",
    "print(confusion_matrix_train)\n",
    "Train_Scores(confusion_matrix_train)\n",
    "print(\"\\n\")\n",
    "\n",
    "print(\"Test Data:\")\n",
    "print(\"Confusion matrix Test:\")\n",
    "confusion_matrix_test = confusion_matrix(y_test,test_pred)\n",
    "print(confusion_matrix_test)\n",
    "Test_Scores(confusion_matrix_test)"
   ]
  },
  {
   "cell_type": "code",
   "execution_count": 42,
   "metadata": {},
   "outputs": [
    {
     "data": {
      "image/png": "[encoded data removed]",
      "text/plain": [
       "<Figure size 432x288 with 1 Axes>"
      ]
     },
     "metadata": {
      "needs_background": "light"
     },
     "output_type": "display_data"
    }
   ],
   "source": [
    "from sklearn import tree\n",
    "\n",
    "max_depths = np.linspace(1, 32, 32, endpoint=True)\n",
    "\n",
    "train_results = []\n",
    "test_results = []\n",
    "\n",
    "for max_depth in max_depths:\n",
    "    dt = Pipeline(steps=[('classifier', tree.DecisionTreeClassifier(max_depth=max_depth))])\n",
    "    dt.set_params(classifier__random_state=123)\n",
    "    #dt = tree.DecisionTreeClassifier(max_depth=max_depth)\n",
    "    dt.fit(os_train_x,os_train_y)\n",
    "    \n",
    "    train_pred = dt.predict(os_train_x).reshape(1,-1)[0]\n",
    "    confusion_matrix_train = confusion_matrix(os_train_y,train_pred)\n",
    "    Accuracy_Train=(confusion_matrix_train[0,0]+confusion_matrix_train[1,1])/(confusion_matrix_train[0,0]+confusion_matrix_train[0,1]+confusion_matrix_train[1,0]+confusion_matrix_train[1,1])\n",
    "    train_results.append(Accuracy_Train)\n",
    "    \n",
    "    test_pred = dt.predict(x_test_pp).reshape(1,-1)[0]\n",
    "    confusion_matrix_test = confusion_matrix(y_test, test_pred)\n",
    "    Accuracy_Test=(confusion_matrix_test[0,0]+confusion_matrix_test[1,1])/(confusion_matrix_test[0,0]+confusion_matrix_test[0,1]+confusion_matrix_test[1,0]+confusion_matrix_test[1,1])\n",
    "    test_results.append(Accuracy_Test)\n",
    "    \n",
    "from matplotlib.legend_handler import HandlerLine2D\n",
    "line1, = plt.plot(max_depths, train_results,'b', label='Train Accuracy')\n",
    "line2, = plt.plot(max_depths, test_results,'r', label='Test Accuracy')\n",
    "plt.legend(handler_map={line1: HandlerLine2D(numpoints=2)})\n",
    "plt.ylabel('Accuracy')\n",
    "plt.xlabel('Tree depth')\n",
    "plt.show()"
   ]
  },
  {
   "cell_type": "markdown",
   "metadata": {},
   "source": [
    "### Model 5 Decision Tress Type 2"
   ]
  },
  {
   "cell_type": "code",
   "execution_count": 43,
   "metadata": {},
   "outputs": [
    {
     "name": "stdout",
     "output_type": "stream",
     "text": [
      "Train Data:\n",
      "Confusion matrix Train:\n",
      "[[3710  385]\n",
      " [1049 3046]]\n",
      "Train Scores\n",
      "Train Precision:  0.8877878169629846\n",
      "Train Recall:  0.7438339438339439\n",
      "Train Accuracy:  0.8249084249084249\n",
      "F1 Score Train:  1.1065778719991175\n",
      "\n",
      "\n",
      "Test Data:\n",
      "Confusion matrix Test:\n",
      "[[1586  187]\n",
      " [ 196  239]]\n",
      "Test Scores\n",
      "Test Precision:  0.5610328638497653\n",
      "Test Recall:  0.5494252873563218\n",
      "Test Accuracy:  0.8265398550724637\n",
      "F1 Score Test:  0.6037362927731535\n"
     ]
    }
   ],
   "source": [
    "#After plotting the graph deciding the max Depth and building a model in Decision tree\n",
    "\n",
    "from sklearn import tree\n",
    "\n",
    "clf_dt2 = Pipeline(steps=[('classifier', tree.DecisionTreeClassifier(random_state=123))])\n",
    "\n",
    "clf_dt2.set_params(classifier__criterion ='entropy',classifier__max_depth=5,classifier__random_state=123)\n",
    "\n",
    "clf_dt2.fit(os_train_x,os_train_y)\n",
    "\n",
    "train_pred = clf_dt2.predict(os_train_x).reshape(1,-1)[0]\n",
    "test_pred = clf_dt2.predict(x_test_pp).reshape(1,-1)[0]\n",
    "\n",
    "print(\"Train Data:\")\n",
    "print(\"Confusion matrix Train:\")\n",
    "confusion_matrix_train = confusion_matrix(os_train_y,train_pred)\n",
    "print(confusion_matrix_train)\n",
    "Train_Scores(confusion_matrix_train)\n",
    "print(\"\\n\")\n",
    "\n",
    "print(\"Test Data:\")\n",
    "print(\"Confusion matrix Test:\")\n",
    "confusion_matrix_test = confusion_matrix(y_test,test_pred)\n",
    "print(confusion_matrix_test)\n",
    "Test_Scores(confusion_matrix_test)"
   ]
  },
  {
   "cell_type": "markdown",
   "metadata": {},
   "source": [
    "### Model 6 Decision Tree Using Random Search and CV=5"
   ]
  },
  {
   "cell_type": "code",
   "execution_count": 44,
   "metadata": {},
   "outputs": [
    {
     "name": "stdout",
     "output_type": "stream",
     "text": [
      "{'classifier__max_depth': 7, 'classifier__criterion': 'entropy'}\n",
      "Train Data:\n",
      "Confusion matrix Train:\n",
      "[[3548  547]\n",
      " [ 627 3468]]\n",
      "Train Scores\n",
      "Train Precision:  0.863760896637609\n",
      "Train Recall:  0.8468864468864469\n",
      "Train Accuracy:  0.8566544566544566\n",
      "F1 Score Train:  1.4344333078399012\n",
      "\n",
      "\n",
      "Test Data:\n",
      "Confusion matrix Test:\n",
      "[[1491  282]\n",
      " [ 153  282]]\n",
      "Test Scores\n",
      "Test Precision:  0.5\n",
      "Test Recall:  0.6482758620689655\n",
      "Test Accuracy:  0.8029891304347826\n",
      "F1 Score Test:  0.8405231866825207\n"
     ]
    }
   ],
   "source": [
    "from sklearn import tree\n",
    "\n",
    "clf_dt3 = Pipeline(steps=[('classifier', tree.DecisionTreeClassifier())])\n",
    "\n",
    "clf_dt3_param_random = {'classifier__criterion': ['entropy','gini'], \n",
    "                'classifier__max_depth':[3,4,5,6,7]}\n",
    "\n",
    "\n",
    "clf_dt3_random = RandomizedSearchCV(clf_dt3, param_distributions=clf_dt3_param_random,cv=5,random_state=123)\n",
    "\n",
    "\n",
    "#clf_dt2.set_params(classifier__criterion ='entropy',classifier__max_depth=15,classifier__random_state=123)\n",
    "\n",
    "clf_dt3_random.fit(os_train_x,os_train_y)\n",
    "\n",
    "print(clf_dt3_random.best_params_)\n",
    "\n",
    "train_pred = clf_dt3_random.predict(os_train_x).reshape(1,-1)[0]\n",
    "test_pred = clf_dt3_random.predict(x_test_pp).reshape(1,-1)[0]\n",
    "\n",
    "train_pred_dt = train_pred\n",
    "test_pred_dt= test_pred\n",
    "\n",
    "print(\"Train Data:\")\n",
    "print(\"Confusion matrix Train:\")\n",
    "confusion_matrix_train = confusion_matrix(os_train_y,train_pred)\n",
    "print(confusion_matrix_train)\n",
    "Train_Scores(confusion_matrix_train)\n",
    "print(\"\\n\")\n",
    "\n",
    "print(\"Test Data:\")\n",
    "print(\"Confusion matrix Test:\")\n",
    "confusion_matrix_test = confusion_matrix(y_test,test_pred)\n",
    "print(confusion_matrix_test)\n",
    "Test_Scores(confusion_matrix_test)"
   ]
  },
  {
   "cell_type": "markdown",
   "metadata": {},
   "source": [
    "### Model 7 Random Forest"
   ]
  },
  {
   "cell_type": "code",
   "execution_count": 45,
   "metadata": {},
   "outputs": [
    {
     "name": "stdout",
     "output_type": "stream",
     "text": [
      "Train Data:\n",
      "Confusion matrix Train:\n",
      "[[4095    0]\n",
      " [   0 4095]]\n",
      "Train Scores\n",
      "Train Precision:  1.0\n",
      "Train Recall:  1.0\n",
      "Train Accuracy:  1.0\n",
      "F1 Score Train:  2.0\n",
      "\n",
      "\n",
      "Test Data:\n",
      "Confusion matrix Test:\n",
      "[[1660  113]\n",
      " [ 220  215]]\n",
      "Test Scores\n",
      "Test Precision:  0.6554878048780488\n",
      "Test Recall:  0.4942528735632184\n",
      "Test Accuracy:  0.8491847826086957\n",
      "F1 Score Test:  0.48857180605099754\n"
     ]
    }
   ],
   "source": [
    "from sklearn import tree\n",
    "from sklearn.ensemble import RandomForestClassifier\n",
    "\n",
    "\n",
    "clf_rf1 = Pipeline(steps=[('classifier',RandomForestClassifier())])\n",
    "clf_rf1.set_params(classifier__random_state=123)\n",
    "\n",
    "\n",
    "clf_rf1.fit(os_train_x,os_train_y)\n",
    "\n",
    "train_pred = clf_rf1.predict(os_train_x).reshape(1,-1)[0]\n",
    "test_pred = clf_rf1.predict(x_test_pp).reshape(1,-1)[0]\n",
    "\n",
    "print(\"Train Data:\")\n",
    "print(\"Confusion matrix Train:\")\n",
    "confusion_matrix_train = confusion_matrix(os_train_y,train_pred)\n",
    "print(confusion_matrix_train)\n",
    "Train_Scores(confusion_matrix_train)\n",
    "print(\"\\n\")\n",
    "\n",
    "print(\"Test Data:\")\n",
    "print(\"Confusion matrix Test:\")\n",
    "confusion_matrix_test = confusion_matrix(y_test,test_pred)\n",
    "print(confusion_matrix_test)\n",
    "Test_Scores(confusion_matrix_test)"
   ]
  },
  {
   "cell_type": "code",
   "execution_count": 46,
   "metadata": {},
   "outputs": [
    {
     "data": {
      "image/png": "[encoded data removed]",
      "text/plain": [
       "<Figure size 432x288 with 1 Axes>"
      ]
     },
     "metadata": {
      "needs_background": "light"
     },
     "output_type": "display_data"
    }
   ],
   "source": [
    "from sklearn import tree\n",
    "\n",
    "max_depths = np.linspace(1, 32, 32, endpoint=True)\n",
    "\n",
    "train_results = []\n",
    "test_results = []\n",
    "\n",
    "for max_depth in max_depths:\n",
    "    rf = Pipeline(steps=[('classifier', RandomForestClassifier(max_depth=max_depth))])\n",
    "    rf.set_params(classifier__random_state=123)\n",
    "    #dt = tree.DecisionTreeClassifier(max_depth=max_depth)\n",
    "    rf.fit(os_train_x,os_train_y)\n",
    "    \n",
    "    train_pred = rf.predict(os_train_x).reshape(1,-1)[0]\n",
    "    confusion_matrix_train = confusion_matrix(os_train_y,train_pred)\n",
    "    Accuracy_Train=(confusion_matrix_train[0,0]+confusion_matrix_train[1,1])/(confusion_matrix_train[0,0]+confusion_matrix_train[0,1]+confusion_matrix_train[1,0]+confusion_matrix_train[1,1])\n",
    "    train_results.append(Accuracy_Train)\n",
    "    \n",
    "    test_pred = rf.predict(x_test_pp).reshape(1,-1)[0]\n",
    "    confusion_matrix_test = confusion_matrix(y_test, test_pred)\n",
    "    Accuracy_Test=(confusion_matrix_test[0,0]+confusion_matrix_test[1,1])/(confusion_matrix_test[0,0]+confusion_matrix_test[0,1]+confusion_matrix_test[1,0]+confusion_matrix_test[1,1])\n",
    "    test_results.append(Accuracy_Test)\n",
    "    \n",
    "from matplotlib.legend_handler import HandlerLine2D\n",
    "line1, = plt.plot(max_depths, train_results,'b', label='Train Accuracy')\n",
    "line2, = plt.plot(max_depths, test_results,'r', label='Test Accuracy')\n",
    "plt.legend(handler_map={line1: HandlerLine2D(numpoints=2)})\n",
    "plt.ylabel('Accuracy')\n",
    "plt.xlabel('Tree depth')\n",
    "plt.show()"
   ]
  },
  {
   "cell_type": "markdown",
   "metadata": {},
   "source": [
    "### Model 8 Random Forest type 2"
   ]
  },
  {
   "cell_type": "code",
   "execution_count": 47,
   "metadata": {},
   "outputs": [
    {
     "name": "stdout",
     "output_type": "stream",
     "text": [
      "{'classifier__max_depth': 18, 'classifier__criterion': 'gini'}\n",
      "Train Data:\n",
      "Confusion matrix Train:\n",
      "[[4094    1]\n",
      " [   0 4095]]\n",
      "Train Scores\n",
      "Train Precision:  0.999755859375\n",
      "Train Recall:  1.0\n",
      "Train Accuracy:  0.9998778998778999\n",
      "F1 Score Train:  2.0\n",
      "\n",
      "\n",
      "Test Data:\n",
      "Confusion matrix Test:\n",
      "[[1663  110]\n",
      " [ 217  218]]\n",
      "Test Scores\n",
      "Test Precision:  0.6646341463414634\n",
      "Test Recall:  0.5011494252873563\n",
      "Test Accuracy:  0.8519021739130435\n",
      "F1 Score Test:  0.502301492931695\n"
     ]
    }
   ],
   "source": [
    "#After plotting the graph deciding the max Depth and building a model in Random forest\n",
    "\n",
    "\n",
    "from sklearn import tree\n",
    "\n",
    "clf_rf2 = Pipeline(steps=[('classifier', RandomForestClassifier())])\n",
    "\n",
    "clf_rf2_param_random = {'classifier__criterion': ['entropy','gini'], \n",
    "                'classifier__max_depth':[15,16,17,18]}\n",
    "\n",
    "\n",
    "clf_rf2_random = RandomizedSearchCV(clf_rf2, param_distributions=clf_rf2_param_random,cv=10,random_state=123)\n",
    "\n",
    "\n",
    "#clf_dt2.set_params(classifier__criterion ='entropy',classifier__max_depth=15,classifier__random_state=123)\n",
    "\n",
    "clf_rf2_random.fit(os_train_x,os_train_y)\n",
    "\n",
    "print(clf_rf2_random.best_params_)\n",
    "\n",
    "train_pred = clf_rf2_random.predict(os_train_x).reshape(1,-1)[0]\n",
    "test_pred = clf_rf2_random.predict(x_test_pp).reshape(1,-1)[0]\n",
    "\n",
    "train_pred_rf = train_pred\n",
    "test_pred_rf= test_pred\n",
    "\n",
    "print(\"Train Data:\")\n",
    "print(\"Confusion matrix Train:\")\n",
    "confusion_matrix_train = confusion_matrix(os_train_y,train_pred)\n",
    "print(confusion_matrix_train)\n",
    "Train_Scores(confusion_matrix_train)\n",
    "print(\"\\n\")\n",
    "\n",
    "print(\"Test Data:\")\n",
    "print(\"Confusion matrix Test:\")\n",
    "confusion_matrix_test = confusion_matrix(y_test,test_pred)\n",
    "print(confusion_matrix_test)\n",
    "Test_Scores(confusion_matrix_test)"
   ]
  },
  {
   "cell_type": "markdown",
   "metadata": {},
   "source": [
    "### Test dataset Try 1 with Model 8 Random Forest"
   ]
  },
  {
   "cell_type": "code",
   "execution_count": 48,
   "metadata": {},
   "outputs": [
    {
     "name": "stdout",
     "output_type": "stream",
     "text": [
      "(1840, 20)\n",
      "CustomerID               object\n",
      "CustomerName             object\n",
      "yearofBirth               int64\n",
      "monthofBirth              int64\n",
      "dayofBirth                int64\n",
      "yearofEntry               int64\n",
      "monthofEntry              int64\n",
      "dayofEntry                int64\n",
      "Gender                   object\n",
      "Location                 object\n",
      "Education                object\n",
      "MaritalStatus            object\n",
      "Occupation               object\n",
      "Ownhouse                 object\n",
      "CreditScore               int64\n",
      "AccountBalance          float64\n",
      "NumberOfProducts          int64\n",
      "IsCreditCardCustomer      int64\n",
      "ActiveMember              int64\n",
      "Salary                  float64\n",
      "dtype: object\n",
      "yearofBirth                int64\n",
      "monthofBirth               int64\n",
      "dayofBirth                 int64\n",
      "yearofEntry                int64\n",
      "monthofEntry               int64\n",
      "dayofEntry                 int64\n",
      "Gender                  category\n",
      "Location                category\n",
      "Education               category\n",
      "MaritalStatus           category\n",
      "Occupation              category\n",
      "Ownhouse                category\n",
      "CreditScore                int64\n",
      "AccountBalance           float64\n",
      "NumberOfProducts        category\n",
      "IsCreditCardCustomer    category\n",
      "ActiveMember            category\n",
      "Salary                   float64\n",
      "dtype: object\n"
     ]
    }
   ],
   "source": [
    "testdata = pd.read_csv(\"test_data-1578037501169.csv\", sep=',', header=0,\n",
    "                        na_values='unknown')\n",
    "print(testdata.shape)\n",
    "print((testdata.dtypes))\n",
    "testdata.drop(\"CustomerID\", axis = 1, inplace= True)\n",
    "testdata.drop(\"CustomerName\", axis = 1, inplace= True)\n",
    "testdata['NumberOfProducts'] = testdata['NumberOfProducts'].astype('category')\n",
    "testdata['IsCreditCardCustomer'] = testdata['IsCreditCardCustomer'].astype('category')\n",
    "testdata['ActiveMember'] = testdata['ActiveMember'].astype('category')\n",
    "cat_attr1 = list(testdata.select_dtypes(\"object\").columns)\n",
    "cat_attr1\n",
    "\n",
    "for col in cat_attr1:\n",
    "    testdata[col] = testdata[col].astype('category')\n",
    "    \n",
    "print((testdata.dtypes))\n",
    "\n",
    "cat_attr = list(testdata.select_dtypes(\"category\").columns)\n",
    "num_attr = list(testdata.columns.difference(cat_attr))\n"
   ]
  },
  {
   "cell_type": "code",
   "execution_count": 49,
   "metadata": {},
   "outputs": [],
   "source": [
    "clf2 = Pipeline(steps=[('preprocessor', preprocessor)])"
   ]
  },
  {
   "cell_type": "code",
   "execution_count": 50,
   "metadata": {},
   "outputs": [],
   "source": [
    "x_test_unseen = pd.DataFrame(clf2.transform(testdata))  #Test data after Preprocessed"
   ]
  },
  {
   "cell_type": "code",
   "execution_count": 51,
   "metadata": {},
   "outputs": [],
   "source": [
    "test_pred_unseen = clf_rf2_random.predict(x_test_unseen).reshape(1,-1)[0]  # Predict on whichever model u want"
   ]
  },
  {
   "cell_type": "code",
   "execution_count": 52,
   "metadata": {},
   "outputs": [],
   "source": [
    "test_pred_unseen2 = pd.DataFrame(test_pred_unseen)"
   ]
  },
  {
   "cell_type": "code",
   "execution_count": 53,
   "metadata": {},
   "outputs": [],
   "source": [
    "test_pred_unseen2.to_csv(\"Testingset1.csv\")"
   ]
  },
  {
   "cell_type": "markdown",
   "metadata": {},
   "source": [
    "### Model 9 Ada Boosting (Boosting Model 5 Decision Tree)"
   ]
  },
  {
   "cell_type": "code",
   "execution_count": 54,
   "metadata": {
    "scrolled": true
   },
   "outputs": [
    {
     "name": "stdout",
     "output_type": "stream",
     "text": [
      "Train Data:\n",
      "Confusion matrix Train:\n",
      "[[4095    0]\n",
      " [   0 4095]]\n",
      "Train Scores\n",
      "Train Precision:  1.0\n",
      "Train Recall:  1.0\n",
      "Train Accuracy:  1.0\n",
      "F1 Score Train:  2.0\n",
      "\n",
      "\n",
      "Test Data:\n",
      "Confusion matrix Test:\n",
      "[[1688   85]\n",
      " [ 263  172]]\n",
      "Test Scores\n",
      "Test Precision:  0.669260700389105\n",
      "Test Recall:  0.3954022988505747\n",
      "Test Accuracy:  0.842391304347826\n",
      "F1 Score Test:  0.31268595587263837\n"
     ]
    }
   ],
   "source": [
    "from sklearn import tree\n",
    "from xgboost import XGBClassifier\n",
    "from sklearn.ensemble import AdaBoostClassifier\n",
    "\n",
    "clf_ada = Pipeline(steps=[('classifier', AdaBoostClassifier(tree.DecisionTreeClassifier(max_depth=6,criterion='entropy')))])\n",
    "\n",
    "clf_ada.set_params(classifier__n_estimators=600,classifier__learning_rate=1,classifier__random_state=123)\n",
    "\n",
    "\n",
    "#clf_dt2.set_params(classifier__criterion ='entropy',classifier__max_depth=15,classifier__random_state=123)\n",
    "\n",
    "clf_ada.fit(os_train_x,os_train_y)\n",
    "\n",
    "\n",
    "train_pred = clf_ada.predict(os_train_x).reshape(1,-1)[0]\n",
    "test_pred = clf_ada.predict(x_test_pp).reshape(1,-1)[0]\n",
    "\n",
    "print(\"Train Data:\")\n",
    "print(\"Confusion matrix Train:\")\n",
    "confusion_matrix_train = confusion_matrix(os_train_y,train_pred)\n",
    "print(confusion_matrix_train)\n",
    "Train_Scores(confusion_matrix_train)\n",
    "print(\"\\n\")\n",
    "\n",
    "print(\"Test Data:\")\n",
    "print(\"Confusion matrix Test:\")\n",
    "confusion_matrix_test = confusion_matrix(y_test,test_pred)\n",
    "print(confusion_matrix_test)\n",
    "Test_Scores(confusion_matrix_test)"
   ]
  },
  {
   "cell_type": "code",
   "execution_count": 55,
   "metadata": {},
   "outputs": [
    {
     "data": {
      "image/png": "[encoded data removed]",
      "text/plain": [
       "<Figure size 432x288 with 1 Axes>"
      ]
     },
     "metadata": {
      "needs_background": "light"
     },
     "output_type": "display_data"
    }
   ],
   "source": [
    "from sklearn import tree\n",
    "\n",
    "max_depths = np.linspace(1, 32, 32, endpoint=True)\n",
    "\n",
    "train_results = []\n",
    "test_results = []\n",
    "\n",
    "for max_depth in max_depths:\n",
    "    ada = Pipeline(steps=[('classifier', AdaBoostClassifier(tree.DecisionTreeClassifier(max_depth=max_depth)))])\n",
    "    ada.set_params(classifier__random_state=123)\n",
    "    #dt = tree.DecisionTreeClassifier(max_depth=max_depth)\n",
    "    ada.fit(os_train_x,os_train_y)\n",
    "    \n",
    "    train_pred = ada.predict(os_train_x).reshape(1,-1)[0]\n",
    "    confusion_matrix_train = confusion_matrix(os_train_y,train_pred)\n",
    "    Accuracy_Train=(confusion_matrix_train[0,0]+confusion_matrix_train[1,1])/(confusion_matrix_train[0,0]+confusion_matrix_train[0,1]+confusion_matrix_train[1,0]+confusion_matrix_train[1,1])\n",
    "    train_results.append(Accuracy_Train)\n",
    "    \n",
    "    test_pred = ada.predict(x_test_pp).reshape(1,-1)[0]\n",
    "    confusion_matrix_test = confusion_matrix(y_test, test_pred)\n",
    "    Accuracy_Test=(confusion_matrix_test[0,0]+confusion_matrix_test[1,1])/(confusion_matrix_test[0,0]+confusion_matrix_test[0,1]+confusion_matrix_test[1,0]+confusion_matrix_test[1,1])\n",
    "    test_results.append(Accuracy_Test)\n",
    "    \n",
    "from matplotlib.legend_handler import HandlerLine2D\n",
    "line1, = plt.plot(max_depths, train_results,'b', label='Train Accuracy')\n",
    "line2, = plt.plot(max_depths, test_results,'r', label='Test Accuracy')\n",
    "plt.legend(handler_map={line1: HandlerLine2D(numpoints=2)})\n",
    "plt.ylabel('Accuracy')\n",
    "plt.xlabel('Tree depth')\n",
    "plt.show()"
   ]
  },
  {
   "cell_type": "markdown",
   "metadata": {},
   "source": [
    "### Model 10 Ada Boosting Type 2 (Boosting Model 5 Decision Tree)"
   ]
  },
  {
   "cell_type": "code",
   "execution_count": 56,
   "metadata": {},
   "outputs": [
    {
     "name": "stdout",
     "output_type": "stream",
     "text": [
      "Train Data:\n",
      "Confusion matrix Train:\n",
      "[[4091    4]\n",
      " [  27 4068]]\n",
      "Train Scores\n",
      "Train Precision:  0.9990176817288802\n",
      "Train Recall:  0.9934065934065934\n",
      "Train Accuracy:  0.9962148962148962\n",
      "F1 Score Train:  1.9737133196473855\n",
      "\n",
      "\n",
      "Test Data:\n",
      "Confusion matrix Test:\n",
      "[[1598  175]\n",
      " [ 251  184]]\n",
      "Test Scores\n",
      "Test Precision:  0.5125348189415042\n",
      "Test Recall:  0.42298850574712643\n",
      "Test Accuracy:  0.8070652173913043\n",
      "F1 Score Test:  0.3578385519883736\n"
     ]
    }
   ],
   "source": [
    "from sklearn import tree\n",
    "from xgboost import XGBClassifier\n",
    "from sklearn.ensemble import AdaBoostClassifier\n",
    "\n",
    "clf_ada1 = Pipeline(steps=[('classifier', AdaBoostClassifier(tree.DecisionTreeClassifier(max_depth=2,criterion='entropy')))])\n",
    "\n",
    "clf_ada1.set_params(classifier__n_estimators=600,classifier__learning_rate=1,classifier__random_state=123)\n",
    "\n",
    "\n",
    "#clf_dt2.set_params(classifier__criterion ='entropy',classifier__max_depth=15,classifier__random_state=123)\n",
    "\n",
    "clf_ada1.fit(os_train_x,os_train_y)\n",
    "\n",
    "\n",
    "train_pred = clf_ada1.predict(os_train_x).reshape(1,-1)[0]\n",
    "test_pred = clf_ada1.predict(x_test_pp).reshape(1,-1)[0]\n",
    "\n",
    "train_pred_ada = train_pred\n",
    "test_pred_ada= test_pred\n",
    "\n",
    "print(\"Train Data:\")\n",
    "print(\"Confusion matrix Train:\")\n",
    "confusion_matrix_train = confusion_matrix(os_train_y,train_pred)\n",
    "print(confusion_matrix_train)\n",
    "Train_Scores(confusion_matrix_train)\n",
    "print(\"\\n\")\n",
    "\n",
    "print(\"Test Data:\")\n",
    "print(\"Confusion matrix Test:\")\n",
    "confusion_matrix_test = confusion_matrix(y_test,test_pred)\n",
    "print(confusion_matrix_test)\n",
    "Test_Scores(confusion_matrix_test)"
   ]
  },
  {
   "cell_type": "markdown",
   "metadata": {},
   "source": [
    "### Model 11 Stacking (Logistic, SVM(linear), KNN, DT, Random forest, ADA)"
   ]
  },
  {
   "cell_type": "code",
   "execution_count": 57,
   "metadata": {},
   "outputs": [],
   "source": [
    "stack_train = pd.DataFrame([train_pred_lr,train_pred_svc,train_pred_knn,train_pred_dt,train_pred_rf,train_pred_ada])\n",
    "stack_test = pd.DataFrame([test_pred_lr,test_pred_svc,test_pred_knn,test_pred_dt,test_pred_rf,test_pred_ada])"
   ]
  },
  {
   "cell_type": "code",
   "execution_count": 58,
   "metadata": {},
   "outputs": [],
   "source": [
    "stack_train = stack_train.T\n",
    "stack_test = stack_test.T"
   ]
  },
  {
   "cell_type": "code",
   "execution_count": 60,
   "metadata": {},
   "outputs": [],
   "source": [
    "stack_train.columns = ['train_pred_lr','train_pred_svc','train_pred_knn','train_pred_dt','train_pred_rf','train_pred_ada']\n",
    "\n",
    "stack_test.columns = ['test_pred_lr','test_pred_svc','test_pred_knn','test_pred_dt','test_pred_rf','test_pred_ada']"
   ]
  },
  {
   "cell_type": "code",
   "execution_count": 61,
   "metadata": {},
   "outputs": [
    {
     "name": "stdout",
     "output_type": "stream",
     "text": [
      "(8190, 6)\n",
      "(2208, 6)\n"
     ]
    }
   ],
   "source": [
    "print(stack_train.shape)\n",
    "print(stack_test.shape)"
   ]
  },
  {
   "cell_type": "code",
   "execution_count": 64,
   "metadata": {},
   "outputs": [],
   "source": [
    "stack = LogisticRegression()\n",
    "\n",
    "stack.fit(stack_train,os_train_y)\n",
    "\n",
    "stacked_pred_train = stack.predict(stack_train)\n",
    "stacked_pred_test = stack.predict(stack_test)"
   ]
  },
  {
   "cell_type": "code",
   "execution_count": 65,
   "metadata": {},
   "outputs": [
    {
     "name": "stdout",
     "output_type": "stream",
     "text": [
      "Train Data:\n",
      "Confusion matrix Train:\n",
      "[[4094    1]\n",
      " [   0 4095]]\n",
      "Train Scores\n",
      "Train Precision:  0.999755859375\n",
      "Train Recall:  1.0\n",
      "Train Accuracy:  0.9998778998778999\n",
      "F1 Score Train:  2.0\n",
      "\n",
      "\n",
      "Test Data:\n",
      "Confusion matrix Test:\n",
      "[[1663  110]\n",
      " [ 217  218]]\n",
      "Test Scores\n",
      "Test Precision:  0.6646341463414634\n",
      "Test Recall:  0.5011494252873563\n",
      "Test Accuracy:  0.8519021739130435\n",
      "F1 Score Test:  0.502301492931695\n"
     ]
    }
   ],
   "source": [
    "print(\"Train Data:\")\n",
    "print(\"Confusion matrix Train:\")\n",
    "confusion_matrix_train = confusion_matrix(os_train_y,stacked_pred_train)\n",
    "print(confusion_matrix_train)\n",
    "Train_Scores(confusion_matrix_train)\n",
    "print(\"\\n\")\n",
    "\n",
    "print(\"Test Data:\")\n",
    "print(\"Confusion matrix Test:\")\n",
    "confusion_matrix_test = confusion_matrix(y_test,stacked_pred_test)\n",
    "print(confusion_matrix_test)\n",
    "Test_Scores(confusion_matrix_test)"
   ]
  },
  {
   "cell_type": "markdown",
   "metadata": {},
   "source": [
    "### Model 12 SVM Type 2"
   ]
  },
  {
   "cell_type": "code",
   "execution_count": 68,
   "metadata": {},
   "outputs": [
    {
     "name": "stdout",
     "output_type": "stream",
     "text": [
      "Train Data:\n",
      "Confusion matrix Train:\n",
      "[[3010 1085]\n",
      " [ 844 3251]]\n",
      "Train Scores\n",
      "Train Precision:  0.7497693726937269\n",
      "Train Recall:  0.7938949938949939\n",
      "Train Accuracy:  0.7644688644688644\n",
      "F1 Score Train:  1.2605385226630648\n",
      "\n",
      "\n",
      "Test Data:\n",
      "Confusion matrix Test:\n",
      "[[1305  468]\n",
      " [  93  342]]\n",
      "Test Scores\n",
      "Test Precision:  0.4222222222222222\n",
      "Test Recall:  0.7862068965517242\n",
      "Test Accuracy:  0.7459239130434783\n",
      "F1 Score Test:  1.236242568370987\n"
     ]
    }
   ],
   "source": [
    "from sklearn.naive_bayes import GaussianNB\n",
    "\n",
    "clf_svc2 = Pipeline(steps=[('classifier', SVC())])\n",
    "\n",
    "clf_svc2.set_params(classifier__kernel='rbf',classifier__C=1,classifier__gamma=0.001,classifier__random_state=123)\n",
    "\n",
    "clf_svc2.fit(os_train_x,os_train_y)\n",
    "\n",
    "train_pred = clf_svc2.predict(os_train_x).reshape(1,-1)[0]\n",
    "test_pred = clf_svc2.predict(x_test_pp).reshape(1,-1)[0]\n",
    "\n",
    "#train_pred_svc2 = train_pred\n",
    "#test_pred_svc2= test_pred\n",
    "\n",
    "\n",
    "print(\"Train Data:\")\n",
    "print(\"Confusion matrix Train:\")\n",
    "confusion_matrix_train = confusion_matrix(os_train_y,train_pred)\n",
    "print(confusion_matrix_train)\n",
    "Train_Scores(confusion_matrix_train)\n",
    "print(\"\\n\")\n",
    "\n",
    "print(\"Test Data:\")\n",
    "print(\"Confusion matrix Test:\")\n",
    "confusion_matrix_test = confusion_matrix(y_test,test_pred)\n",
    "print(confusion_matrix_test)\n",
    "Test_Scores(confusion_matrix_test)"
   ]
  },
  {
   "cell_type": "markdown",
   "metadata": {},
   "source": [
    "### Model 13 SVM Type 3 With Random Search and CV = 5"
   ]
  },
  {
   "cell_type": "code",
   "execution_count": 74,
   "metadata": {},
   "outputs": [
    {
     "name": "stdout",
     "output_type": "stream",
     "text": [
      "{'classifier__kernel': 'rbf', 'classifier__gamma': 0.01, 'classifier__C': 0.1}\n",
      "\n",
      "\n",
      "Train Data:\n",
      "Confusion matrix Train:\n",
      "[[3045 1050]\n",
      " [ 804 3291]]\n",
      "Train Scores\n",
      "Train Precision:  0.7581202487906012\n",
      "Train Recall:  0.8036630036630037\n",
      "Train Accuracy:  0.7736263736263737\n",
      "F1 Score Train:  1.291748446913282\n",
      "\n",
      "\n",
      "Test Data:\n",
      "Confusion matrix Test:\n",
      "[[1313  460]\n",
      " [ 102  333]]\n",
      "Test Scores\n",
      "Test Precision:  0.41992433795712486\n",
      "Test Recall:  0.7655172413793103\n",
      "Test Accuracy:  0.7454710144927537\n",
      "F1 Score Test:  1.1720332936979785\n"
     ]
    }
   ],
   "source": [
    "clf_svc3 = Pipeline(steps=[('classifier', SVC())])\n",
    "\n",
    "\n",
    "svc3_param_random = {'classifier__C': [0.01, 0.1, 1], \n",
    "                  'classifier__gamma':[0, 0.0001, 0.001, 0.01], \n",
    "                 \"classifier__kernel\":['rbf']}\n",
    "\n",
    "\n",
    "svc3_random = RandomizedSearchCV(clf_svc3, param_distributions=svc3_param_random, cv=5,random_state=123)\n",
    "\n",
    "\n",
    "#clf_svc2.set_params(classifier__kernel='rbf',classifier__C=1,classifier__gamma=0.001,classifier__random_state=123)\n",
    "\n",
    "svc3_random.fit(os_train_x,os_train_y)\n",
    "\n",
    "train_pred = svc3_random.predict(os_train_x).reshape(1,-1)[0]\n",
    "test_pred = svc3_random.predict(x_test_pp).reshape(1,-1)[0]\n",
    "\n",
    "train_pred_svc3 = train_pred\n",
    "test_pred_svc3= test_pred\n",
    "\n",
    "print(svc3_random.best_params_)\n",
    "print(\"\\n\")\n",
    "print(\"Train Data:\")\n",
    "print(\"Confusion matrix Train:\")\n",
    "confusion_matrix_train = confusion_matrix(os_train_y,train_pred)\n",
    "print(confusion_matrix_train)\n",
    "Train_Scores(confusion_matrix_train)\n",
    "print(\"\\n\")\n",
    "\n",
    "print(\"Test Data:\")\n",
    "print(\"Confusion matrix Test:\")\n",
    "confusion_matrix_test = confusion_matrix(y_test,test_pred)\n",
    "print(confusion_matrix_test)\n",
    "Test_Scores(confusion_matrix_test)"
   ]
  },
  {
   "cell_type": "markdown",
   "metadata": {},
   "source": [
    "### Model 14 Stacking (Logistic, SVM(linear), KNN, DT, Random forest, ADA, svm 2, svm3)"
   ]
  },
  {
   "cell_type": "code",
   "execution_count": 84,
   "metadata": {},
   "outputs": [],
   "source": [
    "stack_train = pd.DataFrame([train_pred_lr,train_pred_svc,train_pred_knn,train_pred_dt,train_pred_rf,train_pred_ada,\n",
    "                           train_pred_svc2,train_pred_svc3])\n",
    "stack_test = pd.DataFrame([test_pred_lr,test_pred_svc,test_pred_knn,test_pred_dt,test_pred_rf,test_pred_ada,\n",
    "                          test_pred_svc2,test_pred_svc3])\n",
    "\n",
    "\n",
    "stack_train = stack_train.T\n",
    "stack_test = stack_test.T"
   ]
  },
  {
   "cell_type": "code",
   "execution_count": 85,
   "metadata": {},
   "outputs": [],
   "source": [
    "stack_train.columns = ['train_pred_lr','train_pred_svc','train_pred_knn','train_pred_dt','train_pred_rf','train_pred_ada',\n",
    "                      'train_pred_svc2','train_pred_svc3']\n",
    "\n",
    "stack_test.columns = ['test_pred_lr','test_pred_svc','test_pred_knn','test_pred_dt','test_pred_rf','test_pred_ada',\n",
    "                     'test_pred_svc2','test_pred_svc3']"
   ]
  },
  {
   "cell_type": "code",
   "execution_count": 86,
   "metadata": {},
   "outputs": [
    {
     "name": "stdout",
     "output_type": "stream",
     "text": [
      "(8190, 8)\n",
      "(2208, 8)\n"
     ]
    }
   ],
   "source": [
    "print(stack_train.shape)\n",
    "print(stack_test.shape)"
   ]
  },
  {
   "cell_type": "code",
   "execution_count": 92,
   "metadata": {},
   "outputs": [
    {
     "name": "stdout",
     "output_type": "stream",
     "text": [
      "Train Data:\n",
      "Confusion matrix Train:\n",
      "[[4094    1]\n",
      " [   0 4095]]\n",
      "Train Scores\n",
      "Train Precision:  0.999755859375\n",
      "Train Recall:  1.0\n",
      "Train Accuracy:  0.9998778998778999\n",
      "F1 Score Train:  2.0\n",
      "\n",
      "\n",
      "Test Data:\n",
      "Confusion matrix Test:\n",
      "[[1663  110]\n",
      " [ 217  218]]\n",
      "Test Scores\n",
      "Test Precision:  0.6646341463414634\n",
      "Test Recall:  0.5011494252873563\n",
      "Test Accuracy:  0.8519021739130435\n",
      "F1 Score Test:  0.502301492931695\n"
     ]
    }
   ],
   "source": [
    "stack = LogisticRegression()\n",
    "\n",
    "#stack_param_random = {'n_neighbors': [6,7,8]}\n",
    "\n",
    "\n",
    "#stack_random = RandomizedSearchCV(stack, param_distributions=stack_param_random, cv=5,random_state=123)\n",
    "\n",
    "stack.fit(stack_train,os_train_y)\n",
    "\n",
    "stacked_pred_train = stack.predict(stack_train)\n",
    "stacked_pred_test = stack.predict(stack_test)\n",
    "\n",
    "#print(stack_random.best_params_)\n",
    "#print(\"\\n\")\n",
    "\n",
    "print(\"Train Data:\")\n",
    "print(\"Confusion matrix Train:\")\n",
    "confusion_matrix_train = confusion_matrix(os_train_y,stacked_pred_train)\n",
    "print(confusion_matrix_train)\n",
    "Train_Scores(confusion_matrix_train)\n",
    "print(\"\\n\")\n",
    "\n",
    "print(\"Test Data:\")\n",
    "print(\"Confusion matrix Test:\")\n",
    "confusion_matrix_test = confusion_matrix(y_test,stacked_pred_test)\n",
    "print(confusion_matrix_test)\n",
    "Test_Scores(confusion_matrix_test)"
   ]
  },
  {
   "cell_type": "markdown",
   "metadata": {},
   "source": [
    "### Test dataset Try2 with Model 9 SVM type 3"
   ]
  },
  {
   "cell_type": "code",
   "execution_count": 90,
   "metadata": {},
   "outputs": [
    {
     "name": "stdout",
     "output_type": "stream",
     "text": [
      "(1840, 20)\n",
      "CustomerID               object\n",
      "CustomerName             object\n",
      "yearofBirth               int64\n",
      "monthofBirth              int64\n",
      "dayofBirth                int64\n",
      "yearofEntry               int64\n",
      "monthofEntry              int64\n",
      "dayofEntry                int64\n",
      "Gender                   object\n",
      "Location                 object\n",
      "Education                object\n",
      "MaritalStatus            object\n",
      "Occupation               object\n",
      "Ownhouse                 object\n",
      "CreditScore               int64\n",
      "AccountBalance          float64\n",
      "NumberOfProducts          int64\n",
      "IsCreditCardCustomer      int64\n",
      "ActiveMember              int64\n",
      "Salary                  float64\n",
      "dtype: object\n",
      "yearofBirth                int64\n",
      "monthofBirth               int64\n",
      "dayofBirth                 int64\n",
      "yearofEntry                int64\n",
      "monthofEntry               int64\n",
      "dayofEntry                 int64\n",
      "Gender                  category\n",
      "Location                category\n",
      "Education               category\n",
      "MaritalStatus           category\n",
      "Occupation              category\n",
      "Ownhouse                category\n",
      "CreditScore                int64\n",
      "AccountBalance           float64\n",
      "NumberOfProducts        category\n",
      "IsCreditCardCustomer    category\n",
      "ActiveMember            category\n",
      "Salary                   float64\n",
      "dtype: object\n"
     ]
    }
   ],
   "source": [
    "testdata = pd.read_csv(\"test_data-1578037501169.csv\", sep=',', header=0,\n",
    "                        na_values='unknown')\n",
    "print(testdata.shape)\n",
    "print((testdata.dtypes))\n",
    "testdata.drop(\"CustomerID\", axis = 1, inplace= True)\n",
    "testdata.drop(\"CustomerName\", axis = 1, inplace= True)\n",
    "testdata['NumberOfProducts'] = testdata['NumberOfProducts'].astype('category')\n",
    "testdata['IsCreditCardCustomer'] = testdata['IsCreditCardCustomer'].astype('category')\n",
    "testdata['ActiveMember'] = testdata['ActiveMember'].astype('category')\n",
    "cat_attr1 = list(testdata.select_dtypes(\"object\").columns)\n",
    "cat_attr1\n",
    "\n",
    "for col in cat_attr1:\n",
    "    testdata[col] = testdata[col].astype('category')\n",
    "    \n",
    "print((testdata.dtypes))\n",
    "\n",
    "cat_attr = list(testdata.select_dtypes(\"category\").columns)\n",
    "num_attr = list(testdata.columns.difference(cat_attr))\n"
   ]
  },
  {
   "cell_type": "code",
   "execution_count": 91,
   "metadata": {},
   "outputs": [],
   "source": [
    "clf2 = Pipeline(steps=[('preprocessor', preprocessor)])\n",
    "\n",
    "x_test_unseen = pd.DataFrame(clf2.transform(testdata))  #Test data after Preprocessed\n",
    "\n",
    "test_pred_unseen = svc3_random.predict(x_test_unseen).reshape(1,-1)[0]  # Predict on whichever model u want\n",
    "\n",
    "test_pred_unseen2 = pd.DataFrame(test_pred_unseen)\n",
    "\n",
    "test_pred_unseen2.to_csv(\"Testingset2.csv\")"
   ]
  },
  {
   "cell_type": "markdown",
   "metadata": {},
   "source": [
    "### Model 15 SVC Type 4 (Grid Search and CV = 10)"
   ]
  },
  {
   "cell_type": "code",
   "execution_count": 96,
   "metadata": {},
   "outputs": [
    {
     "name": "stdout",
     "output_type": "stream",
     "text": [
      "{'classifier__kernel': 'rbf', 'classifier__gamma': 0.01, 'classifier__C': 0.1}\n",
      "\n",
      "\n",
      "Train Data:\n",
      "Confusion matrix Train:\n",
      "[[3225  870]\n",
      " [ 720 3375]]\n",
      "Train Scores\n",
      "Train Precision:  0.7950530035335689\n",
      "Train Recall:  0.8241758241758241\n",
      "Train Accuracy:  0.8058608058608059\n",
      "F1 Score Train:  1.358531578311798\n",
      "\n",
      "\n",
      "Test Data:\n",
      "Confusion matrix Test:\n",
      "[[1377  396]\n",
      " [ 107  328]]\n",
      "Test Scores\n",
      "Test Precision:  0.4530386740331492\n",
      "Test Recall:  0.7540229885057471\n",
      "Test Accuracy:  0.7721920289855072\n",
      "F1 Score Test:  1.137101334390276\n"
     ]
    }
   ],
   "source": [
    "clf_svc4 = Pipeline(steps=[('classifier', SVC())])\n",
    "\n",
    "\n",
    "svc4_param_grid = {'classifier__C': [0.01, 0.1, 1], \n",
    "                  'classifier__gamma':[0, 0.0001, 0.001, 0.01], \n",
    "                 \"classifier__kernel\":['rbf']}\n",
    "\n",
    "\n",
    "svc4_random = GridSearchCV(clf_svc4, param_grid=svc4_param_grid, cv=10)\n",
    "\n",
    "\n",
    "#clf_svc2.set_params(classifier__kernel='rbf',classifier__C=1,classifier__gamma=0.001,classifier__random_state=123)\n",
    "\n",
    "svc4_random.fit(os_train_x,os_train_y)\n",
    "\n",
    "train_pred = svc4_random.predict(os_train_x).reshape(1,-1)[0]\n",
    "test_pred = svc4_random.predict(x_test_pp).reshape(1,-1)[0]\n",
    "\n",
    "train_pred_svc4 = train_pred\n",
    "test_pred_svc4= test_pred\n",
    "\n",
    "print(svc3_random.best_params_)\n",
    "print(\"\\n\")\n",
    "print(\"Train Data:\")\n",
    "print(\"Confusion matrix Train:\")\n",
    "confusion_matrix_train = confusion_matrix(os_train_y,train_pred)\n",
    "print(confusion_matrix_train)\n",
    "Train_Scores(confusion_matrix_train)\n",
    "print(\"\\n\")\n",
    "\n",
    "print(\"Test Data:\")\n",
    "print(\"Confusion matrix Test:\")\n",
    "confusion_matrix_test = confusion_matrix(y_test,test_pred)\n",
    "print(confusion_matrix_test)\n",
    "Test_Scores(confusion_matrix_test)"
   ]
  },
  {
   "cell_type": "markdown",
   "metadata": {},
   "source": [
    "### Test dataset Try3 with Model 9 SVM type 4"
   ]
  },
  {
   "cell_type": "code",
   "execution_count": 97,
   "metadata": {},
   "outputs": [
    {
     "name": "stdout",
     "output_type": "stream",
     "text": [
      "(1840, 20)\n",
      "CustomerID               object\n",
      "CustomerName             object\n",
      "yearofBirth               int64\n",
      "monthofBirth              int64\n",
      "dayofBirth                int64\n",
      "yearofEntry               int64\n",
      "monthofEntry              int64\n",
      "dayofEntry                int64\n",
      "Gender                   object\n",
      "Location                 object\n",
      "Education                object\n",
      "MaritalStatus            object\n",
      "Occupation               object\n",
      "Ownhouse                 object\n",
      "CreditScore               int64\n",
      "AccountBalance          float64\n",
      "NumberOfProducts          int64\n",
      "IsCreditCardCustomer      int64\n",
      "ActiveMember              int64\n",
      "Salary                  float64\n",
      "dtype: object\n",
      "yearofBirth                int64\n",
      "monthofBirth               int64\n",
      "dayofBirth                 int64\n",
      "yearofEntry                int64\n",
      "monthofEntry               int64\n",
      "dayofEntry                 int64\n",
      "Gender                  category\n",
      "Location                category\n",
      "Education               category\n",
      "MaritalStatus           category\n",
      "Occupation              category\n",
      "Ownhouse                category\n",
      "CreditScore                int64\n",
      "AccountBalance           float64\n",
      "NumberOfProducts        category\n",
      "IsCreditCardCustomer    category\n",
      "ActiveMember            category\n",
      "Salary                   float64\n",
      "dtype: object\n"
     ]
    }
   ],
   "source": [
    "testdata = pd.read_csv(\"test_data-1578037501169.csv\", sep=',', header=0,\n",
    "                        na_values='unknown')\n",
    "print(testdata.shape)\n",
    "print((testdata.dtypes))\n",
    "testdata.drop(\"CustomerID\", axis = 1, inplace= True)\n",
    "testdata.drop(\"CustomerName\", axis = 1, inplace= True)\n",
    "testdata['NumberOfProducts'] = testdata['NumberOfProducts'].astype('category')\n",
    "testdata['IsCreditCardCustomer'] = testdata['IsCreditCardCustomer'].astype('category')\n",
    "testdata['ActiveMember'] = testdata['ActiveMember'].astype('category')\n",
    "cat_attr1 = list(testdata.select_dtypes(\"object\").columns)\n",
    "cat_attr1\n",
    "\n",
    "for col in cat_attr1:\n",
    "    testdata[col] = testdata[col].astype('category')\n",
    "    \n",
    "print((testdata.dtypes))\n",
    "\n",
    "cat_attr = list(testdata.select_dtypes(\"category\").columns)\n",
    "num_attr = list(testdata.columns.difference(cat_attr))\n"
   ]
  },
  {
   "cell_type": "code",
   "execution_count": 98,
   "metadata": {},
   "outputs": [],
   "source": [
    "clf3 = Pipeline(steps=[('preprocessor', preprocessor)])\n",
    "\n",
    "x_test_unseen = pd.DataFrame(clf3.transform(testdata))  #Test data after Preprocessed\n",
    "\n",
    "test_pred_unseen = svc4_random.predict(x_test_unseen).reshape(1,-1)[0]  # Predict on whichever model u want\n",
    "\n",
    "test_pred_unseen2 = pd.DataFrame(test_pred_unseen)\n",
    "\n",
    "test_pred_unseen2.to_csv(\"Testingset3.csv\")"
   ]
  },
  {
   "cell_type": "code",
   "execution_count": null,
   "metadata": {},
   "outputs": [],
   "source": []
  },
  {
   "cell_type": "code",
   "execution_count": null,
   "metadata": {},
   "outputs": [],
   "source": []
  }
 ],
 "metadata": {
  "kernelspec": {
   "display_name": "Python 3",
   "language": "python",
   "name": "python3"
  },
  "language_info": {
   "codemirror_mode": {
    "name": "ipython",
    "version": 3
   },
   "file_extension": ".py",
   "mimetype": "text/x-python",
   "name": "python",
   "nbconvert_exporter": "python",
   "pygments_lexer": "ipython3",
   "version": "3.7.4"
  }
 },
 "nbformat": 4,
 "nbformat_minor": 2
}
